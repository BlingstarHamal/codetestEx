{
 "cells": [
  {
   "cell_type": "code",
   "execution_count": null,
   "metadata": {},
   "outputs": [],
   "source": [
    "# https://school.programmers.co.kr/learn/courses/30/lessons/72415"
   ]
  },
  {
   "cell_type": "code",
   "execution_count": null,
   "metadata": {},
   "outputs": [],
   "source": [
    "# 뒷면이 위로 4 x 4 \n",
    "# 8가지 캐릭터 그림 2장씩\n",
    "# 같은거 두개 제거 / 아니면 다시 뒷면이 위로\n",
    "# 카드 모두 제거"
   ]
  },
  {
   "cell_type": "code",
   "execution_count": null,
   "metadata": {},
   "outputs": [],
   "source": [
    "# 커서 굵고 빨간 테두리 상자\n",
    "# 방향키 상하좌우 1칸이동\n",
    "# 컨트롤 + 방향키 가장가까운 카드로 이동(카드가 없으면 방향의 마지막칸으로)\n",
    "# 방향으로 공간이나 카드가 없으면 움직이지 않음\n",
    "# 카드 뒤집기 엔터"
   ]
  },
  {
   "cell_type": "code",
   "execution_count": null,
   "metadata": {},
   "outputs": [],
   "source": [
    "# 이미 진행중\n",
    "# 카드 그림을 모두 알고있음\n",
    "# 남은 카드를 모두 제거하는데 필요한 키 조작의 횟수의 최솟값"
   ]
  },
  {
   "cell_type": "code",
   "execution_count": null,
   "metadata": {},
   "outputs": [],
   "source": [
    "# board 4 x 4 / 각원소는 0~6 자연수 / 0 = 카드 제거된 빈칸\n",
    "# r 커서의 최초세로 위치 / c 커서의 최초가로 위치 / 0~3 정수\n",
    "# 좌상 0,0 / 우하 3,3"
   ]
  },
  {
   "cell_type": "code",
   "execution_count": null,
   "metadata": {},
   "outputs": [],
   "source": [
    "## BFS 탐색\n",
    "## 어느번호부터 제거할지 = 순열\n",
    "## 같은번호의 두카드중 어느녀석부터 제거할지"
   ]
  },
  {
   "cell_type": "code",
   "execution_count": 5,
   "metadata": {},
   "outputs": [],
   "source": [
    "board,r, c = [[[1,0,0,3],[2,0,0,0],[0,0,0,2],[3,0,1,0]],1,0]"
   ]
  },
  {
   "cell_type": "code",
   "execution_count": 13,
   "metadata": {},
   "outputs": [],
   "source": [
    "import math\n",
    "import queue\n",
    "\n",
    "Board = []\n",
    "Allcard = {}\n",
    "Allremoved = 1 # 0번 비트를 1로 마킹? 모두지우는데 걸린횟수\n",
    "MinCnt = math.inf\n",
    "D = ((-1,0),(1,0),(0,-1),(0,1)) # 상하좌우\n",
    "\n",
    "def bfs(removed,src,dst):\n",
    "    visited = [[False for _ in range(4)] for _ in range(4)]\n",
    "    q = queue.Queue()\n",
    "    q.put(src)\n",
    "    while q:\n",
    "        curr = q.get()\n",
    "        if curr[0] == dst[0] and curr[1] == dst[1]:\n",
    "            return curr[2]\n",
    "        \n",
    "        for i in range(4):\n",
    "            nr = curr[0] + D[i][0]\n",
    "            nc = curr[1] + D[i][1]\n",
    "            \n",
    "            # 범위밖으로 나가는것 스킵\n",
    "            if nr < 0 or nr >3 or nc < 0 or nc > 3 :\n",
    "                continue\n",
    "            if not visited[nr][nc]:\n",
    "                visited[nr][nc]=True\n",
    "                q.put((nr,nc,curr[2]+1))\n",
    "            \n",
    "            # ctrl 이동, 기존이동보다 최대 2칸더 이동가능\n",
    "            for j in range(2):\n",
    "                if (removed & 1 << Board[nr][nc]) == 0 : # 존재함\n",
    "                    break\n",
    "                if nr + D[i][0] < 0 or nr + D[i][0] >3 \\\n",
    "                    or nc + D[i][1] < 0 or nc + D[i][1] > 3:\n",
    "                        break\n",
    "                nr += D[i][0]\n",
    "                nc += D[i][1]\n",
    "                \n",
    "            if not visited[nr][nc]:\n",
    "                visited[nr][nc]=True\n",
    "                q.put((nr,nc,curr[2]+1))\n",
    "                    \n",
    "    return math.inf # 오류시 무한대 반환\n",
    "                \n",
    "def permutate(cnt,removed,src):\n",
    "    global MinCnt\n",
    "    \n",
    "    if cnt >= MinCnt: # 이미 최소값보다 크면 패스\n",
    "        return\n",
    "    \n",
    "    if removed == Allremoved:\n",
    "        MinCnt = min(MinCnt, cnt)\n",
    "        return\n",
    "    \n",
    "    for num, card in Allcard.items():\n",
    "        if removed & 1 << num:\n",
    "            continue\n",
    "        # 순행 역행\n",
    "        one = bfs(removed,src,card[0])+bfs(removed,card[0],card[1])+2 # 엔터두번 2\n",
    "        two = bfs(removed,src,card[1])+bfs(removed,card[1],card[0])+2\n",
    "        \n",
    "        permutate(cnt+one,removed | 1 << num,card[1])\n",
    "        permutate(cnt+two,removed | 1 << num,card[0])\n",
    "\n",
    "def solution(board,r,c):\n",
    "    global Board, Allcard, Allremoved\n",
    "    Board = board\n",
    "    for i in range(4):\n",
    "        for j in range(4):\n",
    "            num = board[i][j]\n",
    "            if num:\n",
    "                Allremoved |= 1 << num # | 비트단위로 or 연산, << 비트 단위로 왼쪽으로 비트단위 밀기 연산\n",
    "                if num in Allcard:\n",
    "                    Allcard[num].append((i,j,0))\n",
    "                else:\n",
    "                    Allcard[num] = [(i,j,0)] # 0 이동 초기값\n",
    "                    \n",
    "    permutate(0,1,(r,c,0))\n",
    "    return MinCnt"
   ]
  },
  {
   "cell_type": "code",
   "execution_count": 14,
   "metadata": {},
   "outputs": [
    {
     "data": {
      "text/plain": [
       "14"
      ]
     },
     "execution_count": 14,
     "metadata": {},
     "output_type": "execute_result"
    }
   ],
   "source": [
    "solution(board,r,c)"
   ]
  },
  {
   "cell_type": "code",
   "execution_count": null,
   "metadata": {},
   "outputs": [],
   "source": [
    "# 비트연산??? BFS 여전히 까먹는다\n",
    "# 항상 그렇게해야하나? 하면서 접어둔걸 코드화 시킨 사람들이 있다. 끝까지 해보자"
   ]
  }
 ],
 "metadata": {
  "kernelspec": {
   "display_name": "Python 3.11.0 64-bit",
   "language": "python",
   "name": "python3"
  },
  "language_info": {
   "codemirror_mode": {
    "name": "ipython",
    "version": 3
   },
   "file_extension": ".py",
   "mimetype": "text/x-python",
   "name": "python",
   "nbconvert_exporter": "python",
   "pygments_lexer": "ipython3",
   "version": "3.11.0"
  },
  "orig_nbformat": 4,
  "vscode": {
   "interpreter": {
    "hash": "5c7b89af1651d0b8571dde13640ecdccf7d5a6204171d6ab33e7c296e100e08a"
   }
  }
 },
 "nbformat": 4,
 "nbformat_minor": 2
}
