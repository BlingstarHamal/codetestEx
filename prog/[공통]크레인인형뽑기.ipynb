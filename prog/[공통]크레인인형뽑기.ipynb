{
 "cells": [
  {
   "cell_type": "code",
   "execution_count": 1,
   "metadata": {},
   "outputs": [
    {
     "name": "stdout",
     "output_type": "stream",
     "text": [
      "5\n",
      "[[7, 76, 35, 13, 94], [74, 47, 81, 2, 64], [57, 39, 9, 8, 1], [41, 7, 59, 2, 55], [4, 1, 25, 31, 64]] \n",
      "\n",
      "[1, 5, 5, 3, 5, 4, 3, 4, 1, 3, 3, 1, 3, 2, 5, 2, 5, 3, 4, 4, 3, 5, 5, 5, 5, 1, 1, 4, 4, 3, 1, 4, 5, 2, 3, 2, 1, 4, 3, 4, 3, 3, 5, 3, 1, 3, 2, 2, 1, 1, 2, 2, 4, 4, 5, 4, 2, 1, 2, 5, 4, 2, 1, 1, 4, 5, 2, 3, 2, 1, 4, 5, 2, 3, 4, 2, 4, 4, 2, 4, 3, 3, 3, 2, 3, 2, 2, 1, 3, 5, 4, 3, 1, 1, 3, 2, 2, 3, 4, 3]\n"
     ]
    }
   ],
   "source": [
    "import numpy as np\n",
    "import random\n",
    "\n",
    "n=random.randrange(5,6)\n",
    "print(n)\n",
    "\n",
    "# 실제 문제의 board나 moves는 더 큰 범위. 확인을 쉽게하기위해 작게 줄임\n",
    "board=np.random.randint(0,100,(n,n)).tolist()\n",
    "moves=np.random.randint(1,n+1,(1,100))[0].tolist()\n",
    "#board=board_i.tolist()\n",
    "print(board,'\\n')\n",
    "print(moves)"
   ]
  },
  {
   "cell_type": "markdown",
   "metadata": {},
   "source": [
    "---  \n",
    "## 실제 프로그래머스의 시간과는 차이가 있음"
   ]
  },
  {
   "cell_type": "code",
   "execution_count": 2,
   "metadata": {},
   "outputs": [],
   "source": [
    "# board=[[0,0,0,0,0],[0,0,1,0,3],[0,2,5,0,1],[4,2,4,4,2],[3,5,1,3,1]]\n",
    "# moves=[1,5,3,5,1,2,1,4]\n",
    "\n",
    "def solution(board, moves):\n",
    "    b=[] # 추출한 인형이 들어갈 리스트\n",
    "    answer=0\n",
    "    \n",
    "    # 2차원 리스트를 뒤집기 => moves가 지칭하는 board의 열은 찾기가 힘들기 때문에 행만 고려하게 바꿈\n",
    "    a = list(map(list, zip(*board)))\n",
    "    # 변형된board(a) 내부의 0을 모두 제거 => 반복횟수 최소화\n",
    "    for i in range(0,len(a)):\n",
    "        while 0 in a[i]:\n",
    "            a[i].remove(0)\n",
    "    \n",
    "    for i in moves:\n",
    "        # a의 행이 비어 있다면 빠르게 패스!\n",
    "        if not a[i-1]:\n",
    "            pass\n",
    "        else:\n",
    "            # 행의 첫번째 인형을 추출\n",
    "            c=a[i-1].pop(0)\n",
    "            # 추출된 인형을 넣어줌\n",
    "            if not b:\n",
    "                b.append(c)\n",
    "            else:\n",
    "                # 추출된 이전 인형과 현재 인형 같다면 추가하지 않고 삭제\n",
    "                if b[-1]==c:\n",
    "                    b.pop(-1)\n",
    "                    answer+=2\n",
    "                else:\n",
    "                    b.append(c)\n",
    "    return answer,b\n"
   ]
  },
  {
   "cell_type": "code",
   "execution_count": 3,
   "metadata": {},
   "outputs": [
    {
     "name": "stdout",
     "output_type": "stream",
     "text": [
      "(0, [7, 94, 64, 35, 1, 13, 81, 2, 74, 9, 59, 57, 25, 76, 55, 47, 64, 8, 2, 41, 4, 31, 39, 7, 1])\n",
      "소요시간 8.702278137207031e-05\n"
     ]
    }
   ],
   "source": [
    "import time\n",
    "start_time = time.time() # 측정시작\n",
    "\n",
    "print(solution(board,moves))\n",
    "\n",
    "end_time = time.time() # 측정끝\n",
    "print(\"소요시간\", end_time - start_time) # 수행시간 출력"
   ]
  },
  {
   "cell_type": "markdown",
   "metadata": {},
   "source": [
    "---\n",
    "## 아래 해당코드가 개인적으론 가장 빠르게 나왔습니다"
   ]
  },
  {
   "cell_type": "code",
   "execution_count": 4,
   "metadata": {},
   "outputs": [],
   "source": [
    "# board=[[0,0,0,0,0],[0,0,1,0,3],[0,2,5,0,1],[4,2,4,4,2],[3,5,1,3,1]]\n",
    "# moves=[1,5,3,5,1,2,1,4]\n",
    "\n",
    "def solution(board, moves):\n",
    "    b=[] # 추출한 인형이 들어갈 리스트\n",
    "    \n",
    "    # 보통 list.append(x) 방식으로 많이 사용하는데\n",
    "    # 속도면에서 append를 새로운 변수로 선언하고 사용하는 것이 빠르다고 해서 사용했습니다.\n",
    "    # append=b(추출한인형이들어갈리스트).append(메소드)\n",
    "    append=b.append\n",
    "    answer=0\n",
    "    \n",
    "    # 2차원 리스트를 뒤집기 => moves가 지칭하는 board의 열은 찾기가 힘들기 때문에 행만 고려하게 바꿈\n",
    "    # 문제처럼 열단위로 뽑는다면 행렬구조상 두개의 인덱스가 필요해서 속도가 느려짐\n",
    "    \n",
    "    # 넘파이(Transpose로 쉽게 변형가능) 덱(덱은 메모리 저장 방식면에서 속도가 우월) 등으로도 시도해 보았지만 \n",
    "    # 아래 부분에서 0을 제거방법이 리스트로 해야했기 때문에(혹은제가 실력이부족해서)\n",
    "    # 타입을 두번 바꾸면 시간적 손해가 있기때문에 리스트로 그대로 진행\n",
    "    a = list(map(list, zip(*board)))\n",
    "    # board\n",
    "    # [[0, 0, 0, 0, 0], \n",
    "    #  [0, 0, 1, 0, 3],\n",
    "    #  [0, 2, 5, 0, 1],\n",
    "    #  [4, 2, 4, 4, 2],\n",
    "    #  [3, 5, 1, 3, 1]]\n",
    "    \n",
    "    # a (np.array(board).T.tolist()) -> 오래걸림\n",
    "    # [[0, 0, 0, 4, 3],\n",
    "    #  [0, 0, 2, 2, 5],\n",
    "    #  [0, 1, 5, 4, 1],\n",
    "    #  [0, 0, 0, 4, 3],\n",
    "    #  [0, 3, 1, 2, 1]]\n",
    "    \n",
    "    \n",
    "    # 변형된board(a) 내부의 0을 모두 제거 => 반복횟수 최소화\n",
    "    # 이부분에서 넘파이는 리무브가 돌아가지 않는 단점이 있었고, 그래서 리스트로 진행\n",
    "    # 제거 방식은 델이나 pop등 다양하게 있었지만, 반복적으로 제거하는 데는 리무브가 좋아서 사용\n",
    "    \n",
    "    for i in range(0,len(a)):\n",
    "        while 0 in a[i]:\n",
    "            a[i].remove(0)\n",
    "    # [[4, 3],\n",
    "    #  [2, 2, 5],\n",
    "    #  [1, 5, 4, 1],\n",
    "    #  [4, 3],\n",
    "    #  [3, 1, 2, 1]]\n",
    "    \n",
    "    for i in moves:\n",
    "        # a의 행이 비어 있다면 빠르게 패스!\n",
    "        # 무조건 다음으로 진행하는 경우에수를 제일먼저 고르게 했는데, \n",
    "        # 생각해보면 이게 괜히 먼저하는게 손해는 아닐지 생각도 듭니다.\n",
    "        # 제가 찾아본 바로는 if문 자체는 시간 복잡도에 영향이 적거나 없다고 합니다.\n",
    "        # 경우의 수가 있는 구간을 빼거나, 중복된 범위만 하지 않는다면 괜찮다.\n",
    "        if not a[i-1]:\n",
    "            pass\n",
    "        else:\n",
    "            # 행의 첫번째 인형을 추출\n",
    "            # 실제로는 열에서 추출하지만 맨위에서 변형을 했기때문에 편하게 열에서만 추출하면 됩니다.\n",
    "            c=a[i-1].pop(0)\n",
    "            \n",
    "            # 추출된 인형을 넣는 경우의수\n",
    "            # 마찬가지로 비어있는 경우의수를 가장먼저 확인\n",
    "            if not b:\n",
    "                # 일반적인 b.append(c) 보다 새로 변수에 append함수를 선언하고 사용하는것이 빠르다.\n",
    "                append(c)\n",
    "            else:\n",
    "                # 비어있지 않는 경우에는 이번에 들어갈것이 이전과 같은지 다른지 확인\n",
    "                # 추출된 이전 인형과 현재 인형 같다면 추가하지 않고 삭제\n",
    "                # 이경우 del이나 remove pop 등 다양한 방법이 있는데, 속도가 del > pop = remove라고 조사해서 사용했습니다.\n",
    "                # 실제로 문제의 경우에선 데이터 양이 작아서 그런지 그렇게 차이가 나지않았습니다. \n",
    "                # 그래서 저는 몇번 돌려가면서 최종적으로 가장빠르게 나왔던 del을 사용했습니다.\n",
    "                if b[-1]==c:\n",
    "                    del b[-1]\n",
    "                    answer+=2\n",
    "                else:\n",
    "                    append(c)\n",
    "    return answer,b"
   ]
  },
  {
   "cell_type": "code",
   "execution_count": 5,
   "metadata": {},
   "outputs": [
    {
     "name": "stdout",
     "output_type": "stream",
     "text": [
      "(0, [7, 94, 64, 35, 1, 13, 81, 2, 74, 9, 59, 57, 25, 76, 55, 47, 64, 8, 2, 41, 4, 31, 39, 7, 1])\n",
      "소요시간 5.602836608886719e-05\n"
     ]
    }
   ],
   "source": [
    "import time\n",
    "start_time = time.time() # 측정시작\n",
    "\n",
    "print(solution(board,moves))\n",
    "\n",
    "end_time = time.time() # 측정끝\n",
    "print(\"소요시간\", end_time - start_time) # 수행시간 출력"
   ]
  },
  {
   "cell_type": "markdown",
   "metadata": {},
   "source": [
    "---"
   ]
  },
  {
   "cell_type": "code",
   "execution_count": 6,
   "metadata": {},
   "outputs": [],
   "source": [
    "# board=[[0,0,0,0,0],[0,0,1,0,3],[0,2,5,0,1],[4,2,4,4,2],[3,5,1,3,1]]\n",
    "# moves=[1,5,3,5,1,2,1,4]\n",
    "\n",
    "def solution(board, moves):\n",
    "    b=[] # 추출한 인형이 들어갈 리스트\n",
    "    append=b.append\n",
    "    answer=0\n",
    "    remove_set = {0}\n",
    "    # 2차원 리스트를 뒤집기 => moves가 지칭하는 board의 열은 찾기가 힘들기 때문에 행만 고려하게 바꿈\n",
    "    a = list(map(list, zip(*board)))\n",
    "    # 변형된board(a) 내부의 0을 모두 제거 => 반복횟수 최소화\n",
    "    for i in range(0,len(a)):\n",
    "        a[i] = [x for x in a[i] if x not in remove_set]\n",
    "    \n",
    "    for i in moves:\n",
    "        # a의 행이 비어 있다면 빠르게 패스!\n",
    "        if not a[i-1]:\n",
    "            continue\n",
    "        else:\n",
    "            # 행의 첫번째 인형을 추출\n",
    "            c=a[i-1].pop(0)\n",
    "            # 추출된 인형을 넣어줌\n",
    "            if not b:\n",
    "                append(c)\n",
    "            else:\n",
    "                # 추출된 이전 인형과 현재 인형 같다면 추가하지 않고 삭제\n",
    "                if b[-1]==c:\n",
    "                    del b[-1]\n",
    "                    answer+=2\n",
    "                else:\n",
    "                    append(c)\n",
    "    return answer,b"
   ]
  },
  {
   "cell_type": "code",
   "execution_count": 7,
   "metadata": {},
   "outputs": [
    {
     "name": "stdout",
     "output_type": "stream",
     "text": [
      "(0, [7, 94, 64, 35, 1, 13, 81, 2, 74, 9, 59, 57, 25, 76, 55, 47, 64, 8, 2, 41, 4, 31, 39, 7, 1])\n",
      "소요시간 5.5789947509765625e-05\n"
     ]
    }
   ],
   "source": [
    "import time\n",
    "start_time = time.time() # 측정시작\n",
    "\n",
    "print(solution(board,moves))\n",
    "\n",
    "end_time = time.time() # 측정끝\n",
    "print(\"소요시간\", end_time - start_time) # 수행시간 출력"
   ]
  },
  {
   "cell_type": "markdown",
   "metadata": {},
   "source": [
    "---"
   ]
  },
  {
   "cell_type": "markdown",
   "metadata": {},
   "source": [
    "---"
   ]
  },
  {
   "cell_type": "code",
   "execution_count": 8,
   "metadata": {},
   "outputs": [],
   "source": [
    "# 동기분 풀이, 딕셔너리 이용\n",
    "\n",
    "def solution(board, moves):\n",
    "    basket = []\n",
    "    result = 0\n",
    "\n",
    "    flatten = [str(i) for i in sum(board,[])]#board를 차원축소, 각 원소를 str\n",
    "\n",
    "    vertical = {i+1:[] for i in range(len(board[0]))}#board 행의 수만큼 비어있는 dict 생성\n",
    "    \n",
    "    for i,v in enumerate(flatten):#차원축소한 board를 행에 맞게 value로 추가\n",
    "        if v != '0': # 0을 제거\n",
    "            vertical[i%len(board[0]) +1] += [v]\n",
    "    #print(vertical)\n",
    "\n",
    "    for i in moves:\n",
    "        if vertical[i]: # 0을 모두 제거했기 때문에 조건을 원소가 존재 한다면 으로 설정\n",
    "            if basket[-1:] == [vertical[i][0]]:\n",
    "                basket = basket[:-1]\n",
    "                result += 2\n",
    "\n",
    "            else:\n",
    "                basket += [vertical[i][0]]\n",
    "\n",
    "            vertical[i] = vertical[i][1:]\n",
    "    return result,basket\n"
   ]
  },
  {
   "cell_type": "code",
   "execution_count": 9,
   "metadata": {},
   "outputs": [
    {
     "name": "stdout",
     "output_type": "stream",
     "text": [
      "(0, ['7', '94', '64', '35', '1', '13', '81', '2', '74', '9', '59', '57', '25', '76', '55', '47', '64', '8', '2', '41', '4', '31', '39', '7', '1'])\n",
      "소요시간 6.723403930664062e-05\n"
     ]
    }
   ],
   "source": [
    "import time\n",
    "start_time = time.time() # 측정시작\n",
    "\n",
    "print(solution(board,moves))\n",
    "\n",
    "end_time = time.time() # 측정끝\n",
    "print(\"소요시간\", end_time - start_time) # 수행시간 출력"
   ]
  },
  {
   "cell_type": "markdown",
   "metadata": {},
   "source": [
    "---"
   ]
  },
  {
   "cell_type": "code",
   "execution_count": 10,
   "metadata": {},
   "outputs": [],
   "source": [
    "## 동기분 풀이 2, 트랜스포즈하지않음\n",
    "\n",
    "def solution(board, moves):\n",
    "    answer=0\n",
    "    basket=[]\n",
    "    N=len(board)\n",
    "    basN=-1\n",
    "    board_top=[-1]*N\n",
    "    \n",
    "    for move in moves:\n",
    "        m=move-1\n",
    "        lane=board_top[m]\n",
    "        \n",
    "        if lane < 0 :\n",
    "            for j in range(N) :\n",
    "                if board[j][m]>0:\n",
    "                    lane=j\n",
    "                    break\n",
    "        \n",
    "        if lane < N:\n",
    "            tmp=board[lane][m]\n",
    "            if basN>=0 and basket[basN]==tmp:\n",
    "                del basket[basN]\n",
    "                basN-=1\n",
    "                answer+=2\n",
    "                \n",
    "            else:\n",
    "                basket.append(tmp)\n",
    "                basN+=1\n",
    "            board_top[m]=lane+1\n",
    "            \n",
    "    return answer,basket"
   ]
  },
  {
   "cell_type": "code",
   "execution_count": 11,
   "metadata": {},
   "outputs": [
    {
     "name": "stdout",
     "output_type": "stream",
     "text": [
      "(0, [7, 94, 64, 35, 1, 13, 81, 2, 74, 9, 59, 57, 25, 76, 55, 47, 64, 8, 2, 41, 4, 31, 39, 7, 1])\n",
      "소요시간 0.00026702880859375\n"
     ]
    }
   ],
   "source": [
    "import time\n",
    "start_time = time.time() # 측정시작\n",
    "\n",
    "print(solution(board,moves))\n",
    "\n",
    "end_time = time.time() # 측정끝\n",
    "print(\"소요시간\", end_time - start_time) # 수행시간 출력"
   ]
  },
  {
   "cell_type": "markdown",
   "metadata": {},
   "source": [
    "---"
   ]
  },
  {
   "cell_type": "code",
   "execution_count": 12,
   "metadata": {},
   "outputs": [],
   "source": [
    "# 동기분 풀이 3\n",
    "\n",
    "def solution(board, moves):\n",
    "    my_list=[[board[i][j] for i in range(len(board))] for j in range(len(board[0]))]\n",
    "    a=0\n",
    "    \n",
    "    for list in my_list:\n",
    "        list.reverse()\n",
    "        while list[-1]==0:\n",
    "            my_list[a].pop()\n",
    "        a+=1\n",
    "        \n",
    "    box=[]\n",
    "    answer=0\n",
    "    \n",
    "    for i in moves:\n",
    "        try:\n",
    "            num = my_list[i-1].pop()\n",
    "        except:\n",
    "            continue\n",
    "        if not box:\n",
    "            box.append(num)\n",
    "            \n",
    "        else:\n",
    "            if box[-1] is num:\n",
    "                box.pop()\n",
    "                answer+=2\n",
    "                \n",
    "            else:\n",
    "                box.append(num)\n",
    "                \n",
    "    return answer,box"
   ]
  },
  {
   "cell_type": "code",
   "execution_count": 13,
   "metadata": {},
   "outputs": [
    {
     "name": "stdout",
     "output_type": "stream",
     "text": [
      "(0, [7, 94, 64, 35, 1, 13, 81, 2, 74, 9, 59, 57, 25, 76, 55, 47, 64, 8, 2, 41, 4, 31, 39, 7, 1])\n",
      "소요시간 7.009506225585938e-05\n"
     ]
    }
   ],
   "source": [
    "import time\n",
    "start_time = time.time() # 측정시작\n",
    "\n",
    "print(solution(board,moves))\n",
    "\n",
    "end_time = time.time() # 측정끝\n",
    "print(\"소요시간\", end_time - start_time) # 수행시간 출력"
   ]
  }
 ],
 "metadata": {
  "interpreter": {
   "hash": "dd9fdb7f5e573aa51bd206043e765fcac015990aba557780e843eaea3e462845"
  },
  "kernelspec": {
   "display_name": "Python 3.8.13 ('n51x')",
   "language": "python",
   "name": "python3"
  },
  "language_info": {
   "codemirror_mode": {
    "name": "ipython",
    "version": 3
   },
   "file_extension": ".py",
   "mimetype": "text/x-python",
   "name": "python",
   "nbconvert_exporter": "python",
   "pygments_lexer": "ipython3",
   "version": "3.8.13"
  },
  "orig_nbformat": 4
 },
 "nbformat": 4,
 "nbformat_minor": 2
}
