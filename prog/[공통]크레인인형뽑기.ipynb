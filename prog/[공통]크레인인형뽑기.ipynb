{
 "cells": [
  {
   "cell_type": "code",
   "execution_count": 1,
   "metadata": {},
   "outputs": [
    {
     "name": "stdout",
     "output_type": "stream",
     "text": [
      "5\n",
      "[[18, 39, 70, 54, 74], [42, 47, 45, 32, 44], [24, 17, 20, 35, 75], [87, 42, 39, 99, 98], [26, 98, 30, 13, 94]] \n",
      "\n",
      "[3, 1, 2, 2, 2, 3, 4, 1, 4, 4, 4, 4, 3, 3, 3, 5, 3, 3, 4, 1, 2, 2, 3, 5, 5, 2, 2, 2, 3, 3, 5, 3, 2, 1, 3, 5, 4, 1, 2, 5, 5, 1, 3, 1, 5, 3, 1, 5, 2, 2, 2, 5, 3, 2, 4, 5, 1, 5, 1, 4, 2, 5, 5, 4, 5, 2, 1, 4, 3, 1, 2, 4, 1, 1, 5, 2, 5, 3, 1, 4, 5, 1, 1, 2, 1, 1, 5, 4, 3, 4, 5, 1, 4, 2, 5, 4, 1, 5, 2, 2]\n"
     ]
    }
   ],
   "source": [
    "import numpy as np\n",
    "import random\n",
    "\n",
    "n=random.randrange(5,6)\n",
    "print(n)\n",
    "\n",
    "board=np.random.randint(0,100,(n,n)).tolist()\n",
    "moves=np.random.randint(1,n+1,(1,100))[0].tolist()\n",
    "#board=board_i.tolist()\n",
    "print(board,'\\n')\n",
    "print(moves)"
   ]
  },
  {
   "cell_type": "code",
   "execution_count": 2,
   "metadata": {},
   "outputs": [],
   "source": [
    "# board=[[0,0,0,0,0],[0,0,1,0,3],[0,2,5,0,1],[4,2,4,4,2],[3,5,1,3,1]]\n",
    "# moves=[1,5,3,5,1,2,1,4]\n",
    "\n",
    "def solution(board, moves):\n",
    "    b=[] # 추출한 인형이 들어갈 리스트\n",
    "    answer=0\n",
    "    \n",
    "    # 2차원 리스트를 뒤집기 => moves가 지칭하는 board의 열은 찾기가 힘들기 때문에 행만 고려하게 바꿈\n",
    "    a = list(map(list, zip(*board)))\n",
    "    # 변형된board(a) 내부의 0을 모두 제거 => 반복횟수 최소화\n",
    "    for i in range(0,len(a)):\n",
    "        while 0 in a[i]:\n",
    "            a[i].remove(0)\n",
    "    \n",
    "    for i in moves:\n",
    "        # a의 행이 비어 있다면 빠르게 패스!\n",
    "        if not a[i-1]:\n",
    "            pass\n",
    "        else:\n",
    "            # 행의 첫번째 인형을 추출\n",
    "            c=a[i-1].pop(0)\n",
    "            # 추출된 인형을 넣어줌\n",
    "            if not b:\n",
    "                b.append(c)\n",
    "            else:\n",
    "                # 추출된 이전 인형과 현재 인형 같다면 추가하지 않고 삭제\n",
    "                if b[-1]==c:\n",
    "                    b.pop(-1)\n",
    "                    answer+=2\n",
    "                else:\n",
    "                    b.append(c)\n",
    "    return answer,b\n"
   ]
  },
  {
   "cell_type": "code",
   "execution_count": 3,
   "metadata": {},
   "outputs": [
    {
     "name": "stdout",
     "output_type": "stream",
     "text": [
      "(0, [70, 18, 39, 47, 17, 45, 54, 42, 32, 35, 99, 13, 20, 39, 30, 74, 24, 42, 98, 44, 75, 98, 87, 94, 26])\n",
      "소요시간 0.0001468658447265625\n"
     ]
    }
   ],
   "source": [
    "import time\n",
    "start_time = time.time() # 측정시작\n",
    "\n",
    "print(solution(board,moves))\n",
    "\n",
    "end_time = time.time() # 측정끝\n",
    "print(\"소요시간\", end_time - start_time) # 수행시간 출력"
   ]
  },
  {
   "cell_type": "markdown",
   "metadata": {},
   "source": [
    "---"
   ]
  },
  {
   "cell_type": "code",
   "execution_count": 4,
   "metadata": {},
   "outputs": [],
   "source": [
    "# board=[[0,0,0,0,0],[0,0,1,0,3],[0,2,5,0,1],[4,2,4,4,2],[3,5,1,3,1]]\n",
    "# moves=[1,5,3,5,1,2,1,4]\n",
    "\n",
    "def solution(board, moves):\n",
    "    b=[] # 추출한 인형이 들어갈 리스트\n",
    "    append=b.append\n",
    "    answer=0\n",
    "    \n",
    "    # 2차원 리스트를 뒤집기 => moves가 지칭하는 board의 열은 찾기가 힘들기 때문에 행만 고려하게 바꿈\n",
    "    a = list(map(list, zip(*board)))\n",
    "    # 변형된board(a) 내부의 0을 모두 제거 => 반복횟수 최소화\n",
    "    for i in range(0,len(a)):\n",
    "        while 0 in a[i]:\n",
    "            a[i].remove(0)\n",
    "    \n",
    "    for i in moves:\n",
    "        # a의 행이 비어 있다면 빠르게 패스!\n",
    "        if not a[i-1]:\n",
    "            pass\n",
    "        else:\n",
    "            # 행의 첫번째 인형을 추출\n",
    "            c=a[i-1].pop(0)\n",
    "            # 추출된 인형을 넣어줌\n",
    "            if not b:\n",
    "                append(c)\n",
    "            else:\n",
    "                # 추출된 이전 인형과 현재 인형 같다면 추가하지 않고 삭제\n",
    "                if b[-1]==c:\n",
    "                    del b[-1]\n",
    "                    answer+=2\n",
    "                else:\n",
    "                    append(c)\n",
    "    return answer,b"
   ]
  },
  {
   "cell_type": "code",
   "execution_count": 5,
   "metadata": {},
   "outputs": [
    {
     "name": "stdout",
     "output_type": "stream",
     "text": [
      "(0, [70, 18, 39, 47, 17, 45, 54, 42, 32, 35, 99, 13, 20, 39, 30, 74, 24, 42, 98, 44, 75, 98, 87, 94, 26])\n",
      "소요시간 5.602836608886719e-05\n"
     ]
    }
   ],
   "source": [
    "import time\n",
    "start_time = time.time() # 측정시작\n",
    "\n",
    "print(solution(board,moves))\n",
    "\n",
    "end_time = time.time() # 측정끝\n",
    "print(\"소요시간\", end_time - start_time) # 수행시간 출력"
   ]
  },
  {
   "cell_type": "markdown",
   "metadata": {},
   "source": [
    "---"
   ]
  },
  {
   "cell_type": "code",
   "execution_count": 6,
   "metadata": {},
   "outputs": [],
   "source": [
    "# board=[[0,0,0,0,0],[0,0,1,0,3],[0,2,5,0,1],[4,2,4,4,2],[3,5,1,3,1]]\n",
    "# moves=[1,5,3,5,1,2,1,4]\n",
    "\n",
    "def solution(board, moves):\n",
    "    b=[] # 추출한 인형이 들어갈 리스트\n",
    "    append=b.append\n",
    "    answer=0\n",
    "    remove_set = {0}\n",
    "    # 2차원 리스트를 뒤집기 => moves가 지칭하는 board의 열은 찾기가 힘들기 때문에 행만 고려하게 바꿈\n",
    "    a = list(map(list, zip(*board)))\n",
    "    # 변형된board(a) 내부의 0을 모두 제거 => 반복횟수 최소화\n",
    "    for i in range(0,len(a)):\n",
    "        a[i] = [x for x in a[i] if x not in remove_set]\n",
    "    \n",
    "    for i in moves:\n",
    "        # a의 행이 비어 있다면 빠르게 패스!\n",
    "        if not a[i-1]:\n",
    "            continue\n",
    "        else:\n",
    "            # 행의 첫번째 인형을 추출\n",
    "            c=a[i-1].pop(0)\n",
    "            # 추출된 인형을 넣어줌\n",
    "            if not b:\n",
    "                append(c)\n",
    "            else:\n",
    "                # 추출된 이전 인형과 현재 인형 같다면 추가하지 않고 삭제\n",
    "                if b[-1]==c:\n",
    "                    del b[-1]\n",
    "                    answer+=2\n",
    "                else:\n",
    "                    append(c)\n",
    "    return answer,b"
   ]
  },
  {
   "cell_type": "code",
   "execution_count": 7,
   "metadata": {},
   "outputs": [
    {
     "name": "stdout",
     "output_type": "stream",
     "text": [
      "(0, [70, 18, 39, 47, 17, 45, 54, 42, 32, 35, 99, 13, 20, 39, 30, 74, 24, 42, 98, 44, 75, 98, 87, 94, 26])\n",
      "소요시간 5.507469177246094e-05\n"
     ]
    }
   ],
   "source": [
    "import time\n",
    "start_time = time.time() # 측정시작\n",
    "\n",
    "print(solution(board,moves))\n",
    "\n",
    "end_time = time.time() # 측정끝\n",
    "print(\"소요시간\", end_time - start_time) # 수행시간 출력"
   ]
  },
  {
   "cell_type": "markdown",
   "metadata": {},
   "source": [
    "---"
   ]
  },
  {
   "cell_type": "markdown",
   "metadata": {},
   "source": [
    "---"
   ]
  },
  {
   "cell_type": "code",
   "execution_count": 8,
   "metadata": {},
   "outputs": [],
   "source": [
    "# 동기분 풀이, 딕셔너리 이용\n",
    "\n",
    "def solution(board, moves):\n",
    "    basket = []\n",
    "    result = 0\n",
    "\n",
    "    flatten = [str(i) for i in sum(board,[])]#board를 차원축소, 각 원소를 str\n",
    "\n",
    "    vertical = {i+1:[] for i in range(len(board[0]))}#board 행의 수만큼 비어있는 dict 생성\n",
    "    \n",
    "    for i,v in enumerate(flatten):#차원축소한 board를 행에 맞게 value로 추가\n",
    "        if v != '0': # 0을 제거\n",
    "            vertical[i%len(board[0]) +1] += [v]\n",
    "    #print(vertical)\n",
    "\n",
    "    for i in moves:\n",
    "        if vertical[i]: # 0을 모두 제거했기 때문에 조건을 원소가 존재 한다면 으로 설정\n",
    "            if basket[-1:] == [vertical[i][0]]:\n",
    "                basket = basket[:-1]\n",
    "                result += 2\n",
    "\n",
    "            else:\n",
    "                basket += [vertical[i][0]]\n",
    "\n",
    "            vertical[i] = vertical[i][1:]\n",
    "    return result,basket\n"
   ]
  },
  {
   "cell_type": "code",
   "execution_count": 9,
   "metadata": {},
   "outputs": [
    {
     "name": "stdout",
     "output_type": "stream",
     "text": [
      "(0, ['70', '18', '39', '47', '17', '45', '54', '42', '32', '35', '99', '13', '20', '39', '30', '74', '24', '42', '98', '44', '75', '98', '87', '94', '26'])\n",
      "소요시간 6.008148193359375e-05\n"
     ]
    }
   ],
   "source": [
    "import time\n",
    "start_time = time.time() # 측정시작\n",
    "\n",
    "print(solution(board,moves))\n",
    "\n",
    "end_time = time.time() # 측정끝\n",
    "print(\"소요시간\", end_time - start_time) # 수행시간 출력"
   ]
  },
  {
   "cell_type": "code",
   "execution_count": null,
   "metadata": {},
   "outputs": [],
   "source": []
  }
 ],
 "metadata": {
  "interpreter": {
   "hash": "dd9fdb7f5e573aa51bd206043e765fcac015990aba557780e843eaea3e462845"
  },
  "kernelspec": {
   "display_name": "Python 3.8.13 ('n51x')",
   "language": "python",
   "name": "python3"
  },
  "language_info": {
   "codemirror_mode": {
    "name": "ipython",
    "version": 3
   },
   "file_extension": ".py",
   "mimetype": "text/x-python",
   "name": "python",
   "nbconvert_exporter": "python",
   "pygments_lexer": "ipython3",
   "version": "3.8.13"
  },
  "orig_nbformat": 4
 },
 "nbformat": 4,
 "nbformat_minor": 2
}
