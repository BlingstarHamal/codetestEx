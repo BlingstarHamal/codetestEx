{
 "cells": [
  {
   "cell_type": "code",
   "execution_count": 1,
   "metadata": {},
   "outputs": [],
   "source": [
    "# https://school.programmers.co.kr/learn/courses/30/lessons/92344"
   ]
  },
  {
   "cell_type": "code",
   "execution_count": 2,
   "metadata": {},
   "outputs": [],
   "source": [
    "# N * M\n",
    "# 적 공격 0 -> 파괴\n",
    "# 아군 힐\n",
    "\n",
    "# 건물 내구도 2차원 정수 배열 board\n",
    "# 적의 공격 혹은 아군의 회복 스킬 2차원 정수 배열 skill\n",
    "# 모두 끝난 뒤 파괴되지 않은 건물의 개수를 return\n",
    "# 1 <= N <= 1000\n",
    "# 1 <= M <= 1000\n",
    "# 1 <= board 원소 <= 1000\n",
    "# 1 <= skill 행 길이 <= 250000\n",
    "# skill 열 길이 = 6\n",
    "# skill의 각행 [type,r1,c1,r2,c2,degree]\n",
    "# type = 1 공격 / type = 2 회복\n",
    "# 0 <= r1,r2 < N\n",
    "# 0 <= c1,c2 < M\n",
    "# 1 <= degree <= 500\n"
   ]
  },
  {
   "cell_type": "code",
   "execution_count": 3,
   "metadata": {},
   "outputs": [],
   "source": [
    "board = [[[5,5,5,5,5],[5,5,5,5,5],[5,5,5,5,5],[5,5,5,5,5]],[[1,2,3],[4,5,6],[7,8,9]]]\n",
    "skill = [[[1,0,0,3,4,4],[1,2,0,2,3,2],[2,1,0,3,1,2],[1,0,1,3,3,1]],[[1,1,1,2,2,4],[1,0,0,1,1,2],[2,2,0,2,0,100]]]"
   ]
  },
  {
   "cell_type": "code",
   "execution_count": 4,
   "metadata": {},
   "outputs": [
    {
     "data": {
      "text/plain": [
       "(array([[5, 5, 5, 5, 5],\n",
       "        [5, 5, 5, 5, 5],\n",
       "        [5, 5, 5, 5, 5],\n",
       "        [5, 5, 5, 5, 5]]),\n",
       " array([[1, 0, 0, 3, 4, 4],\n",
       "        [1, 2, 0, 2, 3, 2],\n",
       "        [2, 1, 0, 3, 1, 2],\n",
       "        [1, 0, 1, 3, 3, 1]]))"
      ]
     },
     "execution_count": 4,
     "metadata": {},
     "output_type": "execute_result"
    }
   ],
   "source": [
    "import numpy as np\n",
    "\n",
    "board = [[5,5,5,5,5],[5,5,5,5,5],[5,5,5,5,5],[5,5,5,5,5]]\n",
    "skill = [[1,0,0,3,4,4],[1,2,0,2,3,2],[2,1,0,3,1,2],[1,0,1,3,3,1]]\n",
    "\n",
    "board=np.array(board)\n",
    "skill=np.array(skill)\n",
    "\n",
    "board,skill"
   ]
  },
  {
   "cell_type": "code",
   "execution_count": 5,
   "metadata": {},
   "outputs": [],
   "source": [
    "for type,r1,c1,r2,c2,degree in skill:\n",
    "    #print(type,r1,c1,r2,c2,degree)\n",
    "    \n",
    "    if type == 1 :\n",
    "        for i in range(r1,r2+1):\n",
    "            for j in range(c1,c2+1):\n",
    "                board[i][j]+= degree*-1\n",
    "\n",
    "    if type == 2 :\n",
    "        for i in range(r1,r2+1):\n",
    "            for j in range(c1,c2+1):\n",
    "                board[i][j]+= degree"
   ]
  },
  {
   "cell_type": "code",
   "execution_count": 6,
   "metadata": {},
   "outputs": [
    {
     "data": {
      "text/plain": [
       "array([[ 1,  0,  0,  0,  1],\n",
       "       [ 3,  2,  0,  0,  1],\n",
       "       [ 1,  0, -2, -2,  1],\n",
       "       [ 3,  2,  0,  0,  1]])"
      ]
     },
     "execution_count": 6,
     "metadata": {},
     "output_type": "execute_result"
    }
   ],
   "source": [
    "board"
   ]
  },
  {
   "cell_type": "code",
   "execution_count": 7,
   "metadata": {},
   "outputs": [],
   "source": [
    "answer=np.count_nonzero(board>0)"
   ]
  },
  {
   "cell_type": "code",
   "execution_count": 8,
   "metadata": {},
   "outputs": [
    {
     "data": {
      "text/plain": [
       "10"
      ]
     },
     "execution_count": 8,
     "metadata": {},
     "output_type": "execute_result"
    }
   ],
   "source": [
    "import numpy as np\n",
    "\n",
    "def solution(board, skill):\n",
    "    answer = 0\n",
    "    \n",
    "    board=np.array(board)\n",
    "    skill=np.array(skill)\n",
    "\n",
    "    for type,r1,c1,r2,c2,degree in skill:\n",
    "        #print(type,r1,c1,r2,c2,degree)\n",
    "        \n",
    "        if type == 1 :\n",
    "            for i in range(r1,r2+1):\n",
    "                for j in range(c1,c2+1):\n",
    "                    board[i][j]+= degree*-1\n",
    "\n",
    "        if type == 2 :\n",
    "            for i in range(r1,r2+1):\n",
    "                for j in range(c1,c2+1):\n",
    "                    board[i][j]+= degree\n",
    "                    \n",
    "    answer=np.count_nonzero(board>0)\n",
    "    \n",
    "    return answer\n",
    "\n",
    "board = [[5,5,5,5,5],[5,5,5,5,5],[5,5,5,5,5],[5,5,5,5,5]]\n",
    "skill = [[1,0,0,3,4,4],[1,2,0,2,3,2],[2,1,0,3,1,2],[1,0,1,3,3,1]]\n",
    "\n",
    "solution(board,skill)"
   ]
  },
  {
   "cell_type": "code",
   "execution_count": 9,
   "metadata": {},
   "outputs": [],
   "source": [
    "# 위 과정은 코딩테스트의 효율성검사를 통과하지 못함.\n",
    "# 누적합을 이용한 방법을 사용해야함"
   ]
  },
  {
   "cell_type": "code",
   "execution_count": 10,
   "metadata": {},
   "outputs": [],
   "source": [
    "# 누적합 관련 참조\n",
    "# https://nahwasa.com/entry/%EB%88%84%EC%A0%81-%ED%95%A9prefix-sum-2%EC%B0%A8%EC%9B%90-%EB%88%84%EC%A0%81%ED%95%A9prefix-sum-of-matrix-with-java"
   ]
  },
  {
   "cell_type": "code",
   "execution_count": 5,
   "metadata": {},
   "outputs": [
    {
     "name": "stdout",
     "output_type": "stream",
     "text": [
      "****************************************\n",
      "before prefix-sum \n",
      " [[-4 -1  0  0  1  4]\n",
      " [ 2  0 -2  0  0  0]\n",
      " [-2  0  0  0  2  0]\n",
      " [ 2  0  0  0 -2  0]\n",
      " [ 2  1  2  0 -1 -4]] \n",
      "\n",
      "row prefix-sum \n",
      " [[-4 -1  0  0  1  4]\n",
      " [-2 -1 -2  0  1  4]\n",
      " [-4 -1 -2  0  3  4]\n",
      " [-2 -1 -2  0  1  4]\n",
      " [ 0  0  0  0  0  0]] \n",
      "\n",
      "final prefix-sum(column sum) \n",
      " [[-4 -5 -5 -5 -4  0]\n",
      " [-2 -3 -5 -5 -4  0]\n",
      " [-4 -5 -7 -7 -4  0]\n",
      " [-2 -3 -5 -5 -4  0]\n",
      " [ 0  0  0  0  0  0]] \n",
      " \n",
      " board \n",
      " [[5 5 5 5 5]\n",
      " [5 5 5 5 5]\n",
      " [5 5 5 5 5]\n",
      " [5 5 5 5 5]] \n",
      "\n",
      "answer = 10 \n",
      " [[ 1  0  0  0  1]\n",
      " [ 3  2  0  0  1]\n",
      " [ 1  0 -2 -2  1]\n",
      " [ 3  2  0  0  1]] \n",
      "\n",
      "****************************************\n",
      "before prefix-sum \n",
      " [[  -2    0    2    0]\n",
      " [   0   -4    0    4]\n",
      " [ 102 -100   -2    0]\n",
      " [-100  104    0   -4]] \n",
      "\n",
      "row prefix-sum \n",
      " [[  -2    0    2    0]\n",
      " [  -2   -4    2    4]\n",
      " [ 100 -104    0    4]\n",
      " [   0    0    0    0]] \n",
      "\n",
      "final prefix-sum(column sum) \n",
      " [[ -2  -2   0   0]\n",
      " [ -2  -6  -4   0]\n",
      " [100  -4  -4   0]\n",
      " [  0   0   0   0]] \n",
      " \n",
      " board \n",
      " [[1 2 3]\n",
      " [4 5 6]\n",
      " [7 8 9]] \n",
      "\n",
      "answer = 6 \n",
      " [[ -1   0   3]\n",
      " [  2  -1   2]\n",
      " [107   4   5]] \n",
      "\n"
     ]
    }
   ],
   "source": [
    "import numpy as np\n",
    "\n",
    "def solution(board, skill):\n",
    "    answer = 0\n",
    "    \n",
    "    board=np.array(board)\n",
    "    skill=np.array(skill)\n",
    "    \n",
    "    ps=np.array([[0 for j in range(len(board[0]) + 1)] for i in range(len(board) + 1)])\n",
    "    \n",
    "    for type,r1,c1,r2,c2,degree in skill:\n",
    "        # 누적합 과정\n",
    "        # 피해를 입는 경우\n",
    "        if type == 1 :\n",
    "            degree=-1*degree\n",
    "            ps[r1][c1]+= degree\n",
    "            ps[r1][c2+1]-= degree\n",
    "            ps[r2+1][c1]-= degree\n",
    "            ps[r2+1][c2+1]+= degree\n",
    "        # 회복하는 경우\n",
    "        if type == 2 :\n",
    "            ps[r1][c1]+= degree\n",
    "            ps[r1][c2+1]-= degree\n",
    "            ps[r2+1][c1]-= degree\n",
    "            ps[r2+1][c2+1]+= degree\n",
    "    print('****************************************')\n",
    "    print('before prefix-sum','\\n',np.array(ps),'\\n')\n",
    "\n",
    "    # 행 누적 합    \n",
    "    ps=ps.cumsum(axis=0)\n",
    "    print('row prefix-sum','\\n',np.array(ps),'\\n')\n",
    "    \n",
    "    # 열 누적 합\n",
    "    ps=ps.cumsum(axis=1)\n",
    "    \n",
    "    print('final prefix-sum(column sum)','\\n',np.array(ps),'\\n','\\n','board','\\n',board,'\\n')\n",
    "    # 두 배열의 원소를 각각 합치는 코드 [[1,1],[1,2]]+[[1,0],[0,0]]=[[2,1],[1,2]]\n",
    "    ans=[[c + d for c, d in zip(a, b)] for a, b in zip(board,ps)]\n",
    "    answer=np.count_nonzero(np.array(ans)>0)\n",
    "    print('answer =',answer,'\\n',np.array(ans),'\\n')\n",
    "    \n",
    "    return answer\n",
    "\n",
    "board = [[[5,5,5,5,5],[5,5,5,5,5],[5,5,5,5,5],[5,5,5,5,5]],[[1,2,3],[4,5,6],[7,8,9]]]\n",
    "skill = [[[1,0,0,3,4,4],[1,2,0,2,3,2],[2,1,0,3,1,2],[1,0,1,3,3,1]],[[1,1,1,2,2,4],[1,0,0,1,1,2],[2,2,0,2,0,100]]]\n",
    "\n",
    "for i in [0,1]:\n",
    "    b=board[i]\n",
    "    s=skill[i]\n",
    "    solution(b,s)"
   ]
  },
  {
   "cell_type": "code",
   "execution_count": null,
   "metadata": {},
   "outputs": [],
   "source": []
  }
 ],
 "metadata": {
  "kernelspec": {
   "display_name": "Python 3.9.13 64-bit",
   "language": "python",
   "name": "python3"
  },
  "language_info": {
   "codemirror_mode": {
    "name": "ipython",
    "version": 3
   },
   "file_extension": ".py",
   "mimetype": "text/x-python",
   "name": "python",
   "nbconvert_exporter": "python",
   "pygments_lexer": "ipython3",
   "version": "3.9.13"
  },
  "orig_nbformat": 4,
  "vscode": {
   "interpreter": {
    "hash": "b0fa6594d8f4cbf19f97940f81e996739fb7646882a419484c72d19e05852a7e"
   }
  }
 },
 "nbformat": 4,
 "nbformat_minor": 2
}
