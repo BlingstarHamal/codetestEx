{
 "cells": [
  {
   "cell_type": "code",
   "execution_count": 1,
   "metadata": {},
   "outputs": [],
   "source": [
    "# https://school.programmers.co.kr/learn/courses/30/lessons/60058\n",
    "# 시작은 ( 끝은 )\n",
    "# (와 )의 개수가 같다면 \"균형\"\n",
    "# 닫고 여는것도 맞다면 \"올바른\""
   ]
  },
  {
   "cell_type": "code",
   "execution_count": 2,
   "metadata": {},
   "outputs": [],
   "source": [
    "# p는 '(' 와 ')' 로만 이루어진 문자열이며 길이는 2 이상 1,000 이하인 짝수입니다.\n",
    "# 문자열 p를 이루는 '(' 와 ')' 의 개수는 항상 같습니다.\n",
    "# 만약 p가 이미 \"올바른 괄호 문자열\"이라면 그대로 return 하면 됩니다.\n",
    "\n",
    "# 문제설명을 잘 해주신 블로그\n",
    "# https://medium.com/@dltkddud4403/2020-%EC%B9%B4%EC%B9%B4%EC%98%A4-%EB%B8%94%EB%9D%BC%EC%9D%B8%EB%93%9C-%EC%BD%94%EB%94%A9%ED%85%8C%EC%8A%A4%ED%8A%B8-%EA%B4%84%ED%98%B8-37ad7be7acd6"
   ]
  },
  {
   "cell_type": "code",
   "execution_count": 3,
   "metadata": {},
   "outputs": [],
   "source": [
    "import collections\n",
    "\n",
    "def solution(p):\n",
    "    answer = ''\n",
    "\n",
    "    # 1. 입력이 빈 문자열인 경우, 빈 문자열을 반환합니다. \n",
    "    if not p:\n",
    "        return p\n",
    "    \n",
    "    # 2. 문자열 w를 두 \"균형잡힌 괄호 문자열\" u, v로 분리합니다. 단, u는 \"균형잡힌 괄호 문자열\"로 더 이상 분리할 수 없어야 하며, v는 빈 문자열이 될 수 있습니다. \n",
    "    u=[]\n",
    "    p_l=list(p)\n",
    "    \n",
    "    for i in range(len(p)):\n",
    "        \n",
    "        u.append(p_l.pop(0))\n",
    "        # counter를 통해서 (와 )의 개수 파악\n",
    "        # 둘의 숫자가 처음 같을때 u는 더이상 분리할 수 없는 균형잡힌 문자열이다\n",
    "        u_c=collections.Counter(u)\n",
    "        if len(u_c)> 1 and (list(u_c.values())[0] == list(u_c.values())[1]):\n",
    "            u=''.join(u)\n",
    "            v=''.join(p_l)\n",
    "            break\n",
    "    \n",
    "    # 3. 문자열 u가 \"올바른 괄호 문자열\" 이라면 문자열 v에 대해 1단계부터 다시 수행합니다. \n",
    "    #   3-1. 수행한 결과 문자열을 u에 이어 붙인 후 반환합니다. \n",
    "    # u는 이미 균형잡힌 문자열이기 때문에 시작이 (고 끝이)라면 올바른 문자열이다.\n",
    "    if u[0] == \"(\" and u[-1] == \")\":\n",
    "        return u+solution(v)\n",
    "    \n",
    "    # 4. 문자열 u가 \"올바른 괄호 문자열\"이 아니라면 아래 과정을 수행합니다. \n",
    "    else:\n",
    "        #   4-1. 빈 문자열에 첫 번째 문자로 '('를 붙입니다. \n",
    "        #   4-2. 문자열 v에 대해 1단계부터 재귀적으로 수행한 결과 문자열을 이어 붙입니다. \n",
    "        #   4-3. ')'를 다시 붙입니다. \n",
    "        #   4-4. u의 첫 번째와 마지막 문자를 제거하고, 나머지 문자열의 괄호 방향을 뒤집어서 뒤에 붙입니다. \n",
    "        #   4-5. 생성된 문자열을 반환합니다.\n",
    "        # 각각을 더해주었다.\n",
    "        answer+='('+solution(v)+')'+''.join([')' if i == '(' else '(' for i in u[1:-1]])\n",
    "        \n",
    "        return answer\n",
    "        "
   ]
  },
  {
   "cell_type": "code",
   "execution_count": 4,
   "metadata": {},
   "outputs": [
    {
     "data": {
      "text/plain": [
       "'((())()())()'"
      ]
     },
     "execution_count": 4,
     "metadata": {},
     "output_type": "execute_result"
    }
   ],
   "source": [
    "p=\"))(((())))((\"\n",
    "solution(p)"
   ]
  },
  {
   "cell_type": "code",
   "execution_count": null,
   "metadata": {},
   "outputs": [],
   "source": []
  }
 ],
 "metadata": {
  "kernelspec": {
   "display_name": "Python 3.9.13 64-bit",
   "language": "python",
   "name": "python3"
  },
  "language_info": {
   "codemirror_mode": {
    "name": "ipython",
    "version": 3
   },
   "file_extension": ".py",
   "mimetype": "text/x-python",
   "name": "python",
   "nbconvert_exporter": "python",
   "pygments_lexer": "ipython3",
   "version": "3.9.13"
  },
  "orig_nbformat": 4,
  "vscode": {
   "interpreter": {
    "hash": "b0fa6594d8f4cbf19f97940f81e996739fb7646882a419484c72d19e05852a7e"
   }
  }
 },
 "nbformat": 4,
 "nbformat_minor": 2
}
