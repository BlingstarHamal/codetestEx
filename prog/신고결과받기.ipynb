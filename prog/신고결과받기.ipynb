{
 "cells": [
  {
   "cell_type": "code",
   "execution_count": 1,
   "metadata": {},
   "outputs": [],
   "source": [
    "# https://programmers.co.kr/learn/courses/30/lessons/92334\n",
    "id_list = [\"muzi\", \"frodo\", \"apeach\", \"neo\"]\n",
    "report = [\"muzi frodo\",\"apeach frodo\",\"frodo neo\",\"muzi neo\",\"apeach muzi\"]\n",
    "k = 2"
   ]
  },
  {
   "cell_type": "code",
   "execution_count": null,
   "metadata": {},
   "outputs": [],
   "source": [
    "def solution(id_list, report, k):\n",
    "    # 아이디리스트 딕셔너리화\n",
    "    id_list_dic = {string : 0 for string in id_list}\n",
    "    \n",
    "    # 리포트 중복 제거\n",
    "    report_set=set(report)\n",
    "    report_dup=list(report_set)\n",
    "    \n",
    "    # 신고한 사람과, 신고받은 사람 리스트 생성\n",
    "    pro=[]\n",
    "    crim=[]\n",
    "\n",
    "    for i in range(len(report_dup)):\n",
    "        x,y=report_dup[i].split(' ')\n",
    "        pro.append(x)\n",
    "        crim.append(y)\n",
    "        \n",
    "    # 신고한 사람과 횟수, 신고받은 사람과 횟수 딕셔너리 생성\n",
    "    def get_occurrence_count(my_list):\n",
    "        new_list = {}\n",
    "        for i in my_list:\n",
    "            try: new_list[i] += 1\n",
    "            except: new_list[i] = 1\n",
    "        return(new_list)\n",
    "\n",
    "    result1=get_occurrence_count(pro)\n",
    "    result2=get_occurrence_count(crim)\n",
    "    \n",
    "    # k번 이상 신고 받은 사람 리스트 생성\n",
    "    result=[]\n",
    "    for x,y in result2.items():\n",
    "        if y >= k :\n",
    "            result.append(x)\n",
    "            \n",
    "    # 신고한 사람을 역추적해서 연락받은 횟수 카운팅\n",
    "    for x in result:\n",
    "        pos = [i for i in range(len(crim)) if crim[i]==x]\n",
    "        #print(x,pos)\n",
    "        for y in pos:\n",
    "            id_list_dic[pro[y]]+=1\n",
    "\n",
    "    return list(id_list_dic.values())"
   ]
  },
  {
   "cell_type": "code",
   "execution_count": null,
   "metadata": {},
   "outputs": [],
   "source": [
    "def solution(id_list, report, k):\n",
    "    # id_list의 개수 만큼 answer을 늘려줌 = id_list의 인덱스와 answer의 인덱스는 같다\n",
    "    answer=[0]*len(id_list)\n",
    "    \n",
    "    # id_list 딕셔너리화\n",
    "    reports={ x: 0 for x in id_list}\n",
    "    \n",
    "    # 신고 당한 횟수 카운팅, set()으로 중복 제거\n",
    "    for x in set(report):\n",
    "        reports[x.split()[1]]+=1\n",
    "    \n",
    "    # 신고 당한 횟수가 k 이상이면, 신고한사람을 역추적해서 카운팅\n",
    "    for x in set(report):\n",
    "        if reports[x.split()[1]]>=k:\n",
    "            answer[id_list.index(x.split()[0])]+=1\n",
    "            \n",
    "    return answer\n",
    "    "
   ]
  }
 ],
 "metadata": {
  "interpreter": {
   "hash": "dd9fdb7f5e573aa51bd206043e765fcac015990aba557780e843eaea3e462845"
  },
  "kernelspec": {
   "display_name": "Python 3.8.13 ('n51x')",
   "language": "python",
   "name": "python3"
  },
  "language_info": {
   "codemirror_mode": {
    "name": "ipython",
    "version": 3
   },
   "file_extension": ".py",
   "mimetype": "text/x-python",
   "name": "python",
   "nbconvert_exporter": "python",
   "pygments_lexer": "ipython3",
   "version": "3.8.13"
  },
  "orig_nbformat": 4
 },
 "nbformat": 4,
 "nbformat_minor": 2
}
