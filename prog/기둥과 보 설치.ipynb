{
 "cells": [
  {
   "cell_type": "code",
   "execution_count": 2,
   "metadata": {},
   "outputs": [],
   "source": [
    "# https://school.programmers.co.kr/learn/courses/30/lessons/60061"
   ]
  },
  {
   "cell_type": "code",
   "execution_count": 3,
   "metadata": {},
   "outputs": [],
   "source": [
    "# 기둥은 바닥 위에 있거나 보의 한쪽 끝 부분 위에 있거나, 또는 다른 기둥 위에 있어야 합니다.\n",
    "# 보는 한쪽 끝 부분이 기둥 위에 있거나, 또는 양쪽 끝 부분이 다른 보와 동시에 연결되어 있어야 합니다. \n",
    "# -> 보 3개를 연속으로 연결 가능하지만 양쪽 보를 만들고 가운데를 연결하는 방식. 제거할때도 마찬가지.\n",
    "# 기둥을 여러개 만들고 보를 길게 연결한 후에 기둥을 삭제 가능하다\n",
    "# 바닥은 벽면의 맨 아래 지면을 말합니다."
   ]
  },
  {
   "cell_type": "code",
   "execution_count": null,
   "metadata": {},
   "outputs": [],
   "source": [
    "# 2차원 벽면은 n x n 크기 정사각 격자 형태, 각 격자는 1 x 1 크기\n",
    "# 5 <= n <=100 자연수\n",
    "# 1 <= row < 1000\n",
    "# col = 4\n",
    "# build_frame=[x,y,a,b]\n",
    "# x y 기둥 보를 설치 또는 삭제할 교차점의 좌표\n",
    "# a 설치 또는 삭제할 구조물의 종류 0 기둥 / 1보\n",
    "# b 설치할 지 혹은 삭제할지 0 삭제 / 1설치\n",
    "\n",
    "# return=[x,y,a]\n",
    "# x y  기둥 보의 교차점좌표\n",
    "# a 구조물의 종류 0 기둥 / 1 보"
   ]
  },
  {
   "cell_type": "code",
   "execution_count": null,
   "metadata": {},
   "outputs": [],
   "source": [
    "# 설치 못하는 경우\n",
    "# 이미 기둥이나 보가 있다.\n",
    "# 기둥이 없어서 보를 설치 못한다.\n",
    "# 보나 기둥이 없어서 기둥을 설치 못한다."
   ]
  },
  {
   "cell_type": "code",
   "execution_count": null,
   "metadata": {},
   "outputs": [],
   "source": [
    "# 초기생각 -> 그려야하나? \n",
    "# 그릴 필요없음 탐색하면서 조건에 맞는지 확인 후 설치/제거를 하면 됨"
   ]
  },
  {
   "cell_type": "code",
   "execution_count": null,
   "metadata": {},
   "outputs": [],
   "source": [
    "# 기둥 설치 경우\n",
    "# 바닥이 있어야함 y == 0 \n",
    "# 기둥이 있어야함 x == x', y'-1 위치에 기둥\n",
    "# 보가 있어야함 x-1,y-1 / x,y-1\n",
    "\n",
    "# 기둥 설치 불가능\n",
    "# 이미 기둥이 있거나 x==x',y==y'\n",
    "# 바닥이 없음 x-1,y-1 / x+1,y-1"
   ]
  },
  {
   "cell_type": "code",
   "execution_count": null,
   "metadata": {},
   "outputs": [],
   "source": [
    "# 보 설치 경우\n",
    "# 한쪽에 기둥이 있어야함 x,y-1 / x+1, y-1\n",
    "# 양쪽에 보가 있어야함 x-1,y/x+1,y"
   ]
  },
  {
   "cell_type": "code",
   "execution_count": 10,
   "metadata": {},
   "outputs": [],
   "source": [
    "# 설치가 되는지만 체크\n",
    "def pos(answer):\n",
    "    for x, y, a in answer:\n",
    "        # 기둥\n",
    "        if a == 0 :\n",
    "            # 바닥 / 기둥 존재 / 왼쪽 보 오른쪽 보\n",
    "            if (\n",
    "                y == 0 or \n",
    "                [x,y-1,0] in answer or \n",
    "                [x-1,y,1] in answer or \n",
    "                [x,y,1] in answer\n",
    "                ):\n",
    "                pass\n",
    "            else:\n",
    "                return False\n",
    "        # 보\n",
    "        else:\n",
    "            # 왼쪽기둥 / 오른쪽기둥 / 양쪽 보\n",
    "            if (\n",
    "                [x,y-1,0] in answer or \n",
    "                [x+1,y-1,0] in answer or \n",
    "                ([x-1,y,1] in answer and [x+1,y,1] in answer)\n",
    "                ):\n",
    "                pass\n",
    "            else:\n",
    "                return False"
   ]
  },
  {
   "cell_type": "code",
   "execution_count": 18,
   "metadata": {},
   "outputs": [],
   "source": [
    "def solution(n,build_frame):\n",
    "    answer=[]\n",
    "    for x,y,a,b in build_frame:\n",
    "        frame=[x,y,a]\n",
    "        # 설치\n",
    "        if b == 1:\n",
    "            # 맨땅인 경우가 있기 때문에 일단 추가하고 시작\n",
    "            answer.append(frame)\n",
    "            if pos(answer) == False:\n",
    "                answer.remove(frame)\n",
    "        # 삭제\n",
    "        else:\n",
    "            answer.remove(frame)\n",
    "            if pos(answer) == False:\n",
    "                answer.append(frame)\n",
    "    return sorted(answer)"
   ]
  },
  {
   "cell_type": "code",
   "execution_count": 19,
   "metadata": {},
   "outputs": [
    {
     "data": {
      "text/plain": [
       "[[0, 0, 0], [0, 1, 1], [1, 1, 1], [2, 1, 1], [3, 1, 1], [4, 0, 0]]"
      ]
     },
     "execution_count": 19,
     "metadata": {},
     "output_type": "execute_result"
    }
   ],
   "source": [
    "build_frame=[[0,0,0,1],[2,0,0,1],[4,0,0,1],[0,1,1,1],[1,1,1,1],[2,1,1,1],[3,1,1,1],[2,0,0,0],[1,1,1,0],[2,2,0,1]]\n",
    "n=5\n",
    "\n",
    "solution(n,build_frame)"
   ]
  },
  {
   "cell_type": "code",
   "execution_count": null,
   "metadata": {},
   "outputs": [],
   "source": []
  }
 ],
 "metadata": {
  "kernelspec": {
   "display_name": "base",
   "language": "python",
   "name": "python3"
  },
  "language_info": {
   "codemirror_mode": {
    "name": "ipython",
    "version": 3
   },
   "file_extension": ".py",
   "mimetype": "text/x-python",
   "name": "python",
   "nbconvert_exporter": "python",
   "pygments_lexer": "ipython3",
   "version": "3.9.12"
  },
  "orig_nbformat": 4,
  "vscode": {
   "interpreter": {
    "hash": "1a6c8141d9e0e836f411349c1e45e31e7e0f7857046ee8bc1882d6723fb25a0a"
   }
  }
 },
 "nbformat": 4,
 "nbformat_minor": 2
}
