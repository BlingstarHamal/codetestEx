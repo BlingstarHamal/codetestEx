{
 "cells": [
  {
   "cell_type": "code",
   "execution_count": null,
   "metadata": {},
   "outputs": [],
   "source": [
    "# https://programmers.co.kr/learn/courses/30/lessons/67256\n",
    "\n",
    "from math import*\n",
    "\n",
    "def mh_dis(x, y):\n",
    "    return sum(abs(a-b) for a,b in zip(x,y))"
   ]
  },
  {
   "cell_type": "code",
   "execution_count": 3,
   "metadata": {},
   "outputs": [
    {
     "data": {
      "text/plain": [
       "'LRLLRRLLLRR'"
      ]
     },
     "execution_count": 3,
     "metadata": {},
     "output_type": "execute_result"
    }
   ],
   "source": [
    "numbers=[7, 0, 8, 2, 8, 3, 1, 5, 7, 6, 2]\n",
    "hand='left'\n",
    "\n",
    "def solution(numbers, hand):\n",
    "\n",
    "    answer=''\n",
    "    RH=(2,0)\n",
    "    LH=(0,0)\n",
    "\n",
    "    num={'1':(0,3),'2':(1,3),'3':(2,3),\n",
    "        '4':(0,2),'5':(1,2),'6':(2,2),\n",
    "        '7':(0,1),'8':(1,1),'9':(2,1),\n",
    "        '*':(0,0),'0':(1,0),'#':(2,0)}\n",
    "\n",
    "    for x in numbers:\n",
    "\n",
    "        # 147 369는 손에 따라만 결정\n",
    "        if x in [3,6,9]:\n",
    "            answer+='R'\n",
    "            RH=num[str(x)]\n",
    "            continue\n",
    "\n",
    "        if x in [1,4,7]:\n",
    "            answer+='L'\n",
    "            LH=num[str(x)]\n",
    "            continue\n",
    "\n",
    "    # 맨하탄 거리 측정\n",
    "        def mh_dis(x, y):\n",
    "            return sum(abs(a-b) for a,b in zip(x,y))\n",
    "\n",
    "        # hand=rihgt\n",
    "        if hand == 'right':\n",
    "            z=num[str(x)]\n",
    "            r=mh_dis(z,RH)\n",
    "            l=mh_dis(z,LH)\n",
    "\n",
    "            if r <= l:\n",
    "                RH=z\n",
    "                answer+='R'\n",
    "            else:\n",
    "                LH=z\n",
    "                answer+='L'\n",
    "            continue\n",
    "\n",
    "        # hand=left\n",
    "        if hand == 'left':\n",
    "            z=num[str(x)]\n",
    "            r=mh_dis(z,RH)\n",
    "            l=mh_dis(z,LH)\n",
    "\n",
    "            if l <= r:\n",
    "                LH=z\n",
    "                answer+='L'\n",
    "            else:\n",
    "                RH=z\n",
    "                answer+='R'\n",
    "\n",
    "    return answer"
   ]
  },
  {
   "cell_type": "code",
   "execution_count": null,
   "metadata": {},
   "outputs": [],
   "source": [
    "num={'1':(0,3),'2':(1,3),'3':(2,3),\n",
    "     '4':(0,2),'5':(1,2),'6':(2,2),\n",
    "     '7':(0,1),'8':(1,1),'9':(2,1),\n",
    "     '*':(0,0),'0':(0,1),'#':(0,2)}\n",
    "\n",
    "num['1']"
   ]
  },
  {
   "cell_type": "code",
   "execution_count": null,
   "metadata": {},
   "outputs": [],
   "source": []
  }
 ],
 "metadata": {
  "interpreter": {
   "hash": "dd9fdb7f5e573aa51bd206043e765fcac015990aba557780e843eaea3e462845"
  },
  "kernelspec": {
   "display_name": "Python 3.8.13 ('n51x')",
   "language": "python",
   "name": "python3"
  },
  "language_info": {
   "codemirror_mode": {
    "name": "ipython",
    "version": 3
   },
   "file_extension": ".py",
   "mimetype": "text/x-python",
   "name": "python",
   "nbconvert_exporter": "python",
   "pygments_lexer": "ipython3",
   "version": "3.8.13"
  },
  "orig_nbformat": 4
 },
 "nbformat": 4,
 "nbformat_minor": 2
}
