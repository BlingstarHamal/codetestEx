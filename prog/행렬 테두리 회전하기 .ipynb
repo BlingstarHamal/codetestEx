{
 "cells": [
  {
   "cell_type": "markdown",
   "metadata": {},
   "source": [
    "https://school.programmers.co.kr/learn/courses/30/lessons/77485"
   ]
  },
  {
   "cell_type": "code",
   "execution_count": 2,
   "metadata": {},
   "outputs": [],
   "source": [
    "rows=6\n",
    "columns=6\n",
    "queries=[[1,1,3,1],[2,2,5,4],[3,3,6,6],[5,1,6,3]]"
   ]
  },
  {
   "cell_type": "code",
   "execution_count": 3,
   "metadata": {},
   "outputs": [],
   "source": [
    "import numpy as np\n",
    "def solution(rows, columns, queries):\n",
    "    answer = []\n",
    "    a= np.arange(1,rows*columns+1).reshape(rows,columns)\n",
    "    a=a.tolist()\n",
    "    \n",
    "    for x1,y1,x2,y2 in queries:\n",
    "        \n",
    "        # ➡️ 상\n",
    "        save1=a[x1-1][y2-1]\n",
    "        mini=save1\n",
    "        for i in range(y2-1,y1-1,-1):\n",
    "            a[x1-1][i]=a[x1-1][i-1]\n",
    "            mini=min(mini,a[x1-1][i])\n",
    "        # ⬇️ 우\n",
    "        save2=a[x2-1][y2-1]\n",
    "        for i in range(x2-1,x1-1,-1):\n",
    "            a[i][y2-1]=a[i-1][y2-1]\n",
    "            mini=min(mini,a[i][y2-1])\n",
    "        a[x1][y2-1]=save1\n",
    "        \n",
    "        # ⬅️ 하\n",
    "        save1=a[x2-1][y1-1]\n",
    "        for i in range(y1-1,y2-1):\n",
    "            a[x2-1][i]=a[x2-1][i+1]\n",
    "            mini=min(mini,a[x2-1][i])\n",
    "        a[x2-1][y2-2]=save2\n",
    "\n",
    "        # ⬆️ 좌\n",
    "        for i in range(x1,x2-1):\n",
    "            a[i-1][y1-1]=a[i][y1-1]\n",
    "            mini=min(mini,a[i-1][y1-1])\n",
    "        a[x2-2][y1-1]=save1\n",
    "        \n",
    "        answer.append(mini)\n",
    "    return answer"
   ]
  },
  {
   "cell_type": "code",
   "execution_count": 4,
   "metadata": {},
   "outputs": [
    {
     "data": {
      "text/plain": [
       "[1, 8, 10, 25]"
      ]
     },
     "execution_count": 4,
     "metadata": {},
     "output_type": "execute_result"
    }
   ],
   "source": [
    "solution(rows, columns, queries)"
   ]
  },
  {
   "cell_type": "code",
   "execution_count": 5,
   "metadata": {},
   "outputs": [
    {
     "data": {
      "text/plain": [
       "9"
      ]
     },
     "execution_count": 5,
     "metadata": {},
     "output_type": "execute_result"
    }
   ],
   "source": [
    "min(9,9)"
   ]
  },
  {
   "cell_type": "code",
   "execution_count": null,
   "metadata": {},
   "outputs": [],
   "source": []
  }
 ],
 "metadata": {
  "kernelspec": {
   "display_name": "Python 3.9.12 ('tf')",
   "language": "python",
   "name": "python3"
  },
  "language_info": {
   "codemirror_mode": {
    "name": "ipython",
    "version": 3
   },
   "file_extension": ".py",
   "mimetype": "text/x-python",
   "name": "python",
   "nbconvert_exporter": "python",
   "pygments_lexer": "ipython3",
   "version": "3.9.12"
  },
  "orig_nbformat": 4,
  "vscode": {
   "interpreter": {
    "hash": "31b385ba421a9031a142f71477cbe2daf1628acd421806b2b865a5de7ff934c3"
   }
  }
 },
 "nbformat": 4,
 "nbformat_minor": 2
}
