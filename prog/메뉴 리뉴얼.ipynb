{
 "cells": [
  {
   "cell_type": "code",
   "execution_count": 1,
   "metadata": {},
   "outputs": [],
   "source": [
    "# https://school.programmers.co.kr/learn/courses/30/lessons/72411"
   ]
  },
  {
   "cell_type": "code",
   "execution_count": 5,
   "metadata": {},
   "outputs": [
    {
     "name": "stdout",
     "output_type": "stream",
     "text": [
      "*******course= 2 ************\n",
      "count_list= [('X', 'Y'), ('X', 'Z'), ('Y', 'Z'), ('W', 'X'), ('W', 'Y'), ('X', 'Y'), ('A', 'W'), ('A', 'X'), ('W', 'X')]\n",
      "counter_order= {('X', 'Y'): 2, ('W', 'X'): 2, ('X', 'Z'): 1, ('Y', 'Z'): 1, ('W', 'Y'): 1, ('A', 'W'): 1, ('A', 'X'): 1} \n",
      "\n",
      "*******course= 3 ************\n",
      "count_list= [('X', 'Y', 'Z'), ('W', 'X', 'Y'), ('A', 'W', 'X')]\n",
      "counter_order= {('X', 'Y', 'Z'): 1, ('W', 'X', 'Y'): 1, ('A', 'W', 'X'): 1} \n",
      "\n",
      "*******course= 5 ************\n",
      "count_list= []\n",
      "counter_order= {} \n",
      "\n"
     ]
    },
    {
     "data": {
      "text/plain": [
       "['WX', 'XY']"
      ]
     },
     "execution_count": 5,
     "metadata": {},
     "output_type": "execute_result"
    }
   ],
   "source": [
    "from itertools import *\n",
    "from collections import Counter\n",
    "import operator\n",
    "#orders=[\"ABCFG\", \"AC\", \"CDE\", \"ACDE\", \"BCFG\", \"ACDEH\"]\n",
    "orders=[\"XYZ\", \"XWY\", \"WXA\"] # 예제 3번을 보면 wxy 가 xwy로 정렬이 안된경우도 있다는것을 알 수 있음\n",
    "course=[2,3,5]\n",
    "answer=[]\n",
    "\n",
    "for j in course:\n",
    "    count_list=[]\n",
    "    for i in orders:\n",
    "        \n",
    "        # 예제 3번의 경우를 보면 order가 정렬이 안된경우가 있다.\n",
    "        # list(i)에 정렬을 해주어야한다\n",
    "        # itertools의 combinations는 모든 경우의 수를 보여주는 라이브러리\n",
    "        # 중복 횟수를 알기위해 일단 모두 추가하였다.\n",
    "        count_list+=combinations(sorted(list(i)),j)\n",
    "    \n",
    "    print(\"*******course=\",j,\"************\")\n",
    "    print(\"count_list=\",count_list)\n",
    "    # collectins의 counter로 요소의 중복횟수를 튜플형식으로 내놓는다\n",
    "    counter=Counter(count_list)\n",
    "    #print(\"counter=\",counter)\n",
    "    \n",
    "    # operator를 이용하면 오름차순 내림차순 정렬이 가능\n",
    "    counter_order=dict(sorted(dict(counter).items(),key=operator.itemgetter(1),reverse=True))\n",
    "    print(\"counter_order=\",counter_order,\"\\n\")\n",
    "\n",
    "    for x in range(len(counter_order)):\n",
    "        n=list(counter_order.values())[0]\n",
    "        \n",
    "        # 주문은 최소 2개 이상\n",
    "        if n <2:\n",
    "            break\n",
    "        \n",
    "        # 최빈 주문 조합이 여러개 일수도 있다\n",
    "        elif list(counter_order.values())[x]==n:\n",
    "            answer.append(\"\".join(list(counter_order.keys())[x]))\n",
    "        \n",
    "        # 최빈 주문보다 적으면 종료\n",
    "        else :\n",
    "            break\n",
    "\n",
    "sorted(answer)"
   ]
  },
  {
   "cell_type": "code",
   "execution_count": 3,
   "metadata": {},
   "outputs": [],
   "source": [
    "from itertools import *\n",
    "from collections import Counter\n",
    "import operator\n",
    "\n",
    "def solution(orders, course):\n",
    "    answer = []\n",
    "    \n",
    "    for j in course:\n",
    "        count_list=[]\n",
    "        for i in orders:\n",
    "            \n",
    "            count_list+=list(combinations(sorted(list(i)),j))\n",
    "            \n",
    "        counter=Counter(count_list)\n",
    "        counter_order=dict(sorted(dict(counter).items(),key=operator.itemgetter(1),reverse=True))\n",
    "        #print(counter_order)\n",
    "\n",
    "        for x in range(len(counter_order)):\n",
    "            n=list(counter_order.values())[0]\n",
    "            \n",
    "            if n <2:\n",
    "                break\n",
    "            elif list(counter_order.values())[x]==n:\n",
    "                answer.append(\"\".join(list(counter_order.keys())[x]))\n",
    "            else :\n",
    "                break\n",
    "\n",
    "    return sorted(answer)"
   ]
  },
  {
   "cell_type": "code",
   "execution_count": 4,
   "metadata": {},
   "outputs": [
    {
     "data": {
      "text/plain": [
       "['AC', 'ACDE', 'BCFG', 'CDE']"
      ]
     },
     "execution_count": 4,
     "metadata": {},
     "output_type": "execute_result"
    }
   ],
   "source": [
    "solution(orders, course)"
   ]
  },
  {
   "cell_type": "code",
   "execution_count": null,
   "metadata": {},
   "outputs": [],
   "source": []
  }
 ],
 "metadata": {
  "kernelspec": {
   "display_name": "Python 3.9.13 64-bit",
   "language": "python",
   "name": "python3"
  },
  "language_info": {
   "codemirror_mode": {
    "name": "ipython",
    "version": 3
   },
   "file_extension": ".py",
   "mimetype": "text/x-python",
   "name": "python",
   "nbconvert_exporter": "python",
   "pygments_lexer": "ipython3",
   "version": "3.9.13"
  },
  "orig_nbformat": 4,
  "vscode": {
   "interpreter": {
    "hash": "b0fa6594d8f4cbf19f97940f81e996739fb7646882a419484c72d19e05852a7e"
   }
  }
 },
 "nbformat": 4,
 "nbformat_minor": 2
}
