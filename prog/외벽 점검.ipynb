{
 "cells": [
  {
   "cell_type": "code",
   "execution_count": 1,
   "metadata": {},
   "outputs": [],
   "source": [
    "# https://school.programmers.co.kr/learn/courses/30/lessons/60062"
   ]
  },
  {
   "cell_type": "code",
   "execution_count": 2,
   "metadata": {},
   "outputs": [],
   "source": [
    "# 원을 배열로 변환시키는게 최대 고민\n",
    "# 각 원값에 + n을 해서 구현\n",
    "# 나머지는 순열"
   ]
  },
  {
   "cell_type": "code",
   "execution_count": 3,
   "metadata": {},
   "outputs": [
    {
     "data": {
      "text/plain": [
       "2"
      ]
     },
     "execution_count": 3,
     "metadata": {},
     "output_type": "execute_result"
    }
   ],
   "source": [
    "n=12\n",
    "weak=[1,5,6,10]\n",
    "dist=[1,2,3,4]\n",
    "\n",
    "#12\t[1, 3, 4, 9, 10]\t[3, 5, 7]\t1\n",
    "\n",
    "from itertools import permutations as pt\n",
    "\n",
    "def solution(n, weak, dist):\n",
    "    answer=len(dist)+1\n",
    "    \n",
    "    lineweak=[]\n",
    "    for i in weak:\n",
    "        lineweak+=i,i+n\n",
    "    lineweak.sort()\n",
    "    #print('lineweak=',lineweak)\n",
    "\n",
    "    permu=list(pt(dist,len(dist)))\n",
    "    permu.sort(reverse=True)\n",
    "    #print('permutations=',permu)\n",
    "\n",
    "    for i in range(len(weak)):\n",
    "        for j in permu:\n",
    "            count = 1\n",
    "            x = lineweak[i]+j[count-1]\n",
    "            \n",
    "            for k in range(i,i+len(weak)):\n",
    "                if x < lineweak[k]: \n",
    "                    count +=1 \n",
    "                    if count > len(dist): break\n",
    "                    x = lineweak[k]+j[count-1]\n",
    "            \n",
    "            answer = min(count,answer)\n",
    "    if answer > len(dist) : return -1\n",
    "    return answer\n",
    "\n",
    "solution(n, weak, dist)"
   ]
  },
  {
   "cell_type": "code",
   "execution_count": 4,
   "metadata": {},
   "outputs": [
    {
     "name": "stdout",
     "output_type": "stream",
     "text": [
      "[(1, 2, 3, 4), (1, 2, 4, 3), (1, 3, 2, 4), (1, 3, 4, 2), (1, 4, 2, 3), (1, 4, 3, 2), (2, 1, 3, 4), (2, 1, 4, 3), (2, 3, 1, 4), (2, 3, 4, 1), (2, 4, 1, 3), (2, 4, 3, 1), (3, 1, 2, 4), (3, 1, 4, 2), (3, 2, 1, 4), (3, 2, 4, 1), (3, 4, 1, 2), (3, 4, 2, 1), (4, 1, 2, 3), (4, 1, 3, 2), (4, 2, 1, 3), (4, 2, 3, 1), (4, 3, 1, 2), (4, 3, 2, 1)]\n",
      "[(1, 2, 3, 4)]\n"
     ]
    }
   ],
   "source": [
    "from itertools import combinations as cb\n",
    "n=12\n",
    "weak=[1,5,6,10]\n",
    "dist=[1,2,3,4]\n",
    "\n",
    "permu=list(pt(dist,len(dist)))\n",
    "comb=list(cb(dist,len(dist)))\n",
    "\n",
    "print(permu)\n",
    "print(comb)"
   ]
  },
  {
   "cell_type": "code",
   "execution_count": 5,
   "metadata": {},
   "outputs": [
    {
     "name": "stdout",
     "output_type": "stream",
     "text": [
      "[(1,), (2,), (3,), (4,)]\n",
      "[(1, 2), (1, 3), (1, 4), (2, 3), (2, 4), (3, 4)]\n",
      "[(1, 2, 3), (1, 2, 4), (1, 3, 4), (2, 3, 4)]\n",
      "[(1, 2, 3, 4)]\n"
     ]
    }
   ],
   "source": [
    "for i in range(len(dist)):\n",
    "    comb=list(cb(dist,i+1))\n",
    "    print(comb)"
   ]
  },
  {
   "cell_type": "code",
   "execution_count": null,
   "metadata": {},
   "outputs": [],
   "source": []
  }
 ],
 "metadata": {
  "kernelspec": {
   "display_name": "Python 3",
   "language": "python",
   "name": "python3"
  },
  "language_info": {
   "codemirror_mode": {
    "name": "ipython",
    "version": 3
   },
   "file_extension": ".py",
   "mimetype": "text/x-python",
   "name": "python",
   "nbconvert_exporter": "python",
   "pygments_lexer": "ipython3",
   "version": "3.11.0 (main, Oct 25 2022, 13:57:33) [Clang 14.0.0 (clang-1400.0.29.202)]"
  },
  "orig_nbformat": 4,
  "vscode": {
   "interpreter": {
    "hash": "5c7b89af1651d0b8571dde13640ecdccf7d5a6204171d6ab33e7c296e100e08a"
   }
  }
 },
 "nbformat": 4,
 "nbformat_minor": 2
}
