{
 "cells": [
  {
   "cell_type": "code",
   "execution_count": null,
   "metadata": {},
   "outputs": [],
   "source": [
    "# https://school.programmers.co.kr/learn/courses/30/lessons/92335"
   ]
  },
  {
   "cell_type": "code",
   "execution_count": null,
   "metadata": {},
   "outputs": [],
   "source": [
    "def solution(n, k):\n",
    "    answer = 0\n",
    "    return answer"
   ]
  },
  {
   "cell_type": "code",
   "execution_count": null,
   "metadata": {},
   "outputs": [],
   "source": [
    "import math\n",
    "# 소수 판별\n",
    "def primenumber(x):\n",
    "    for i in range (2, int(math.sqrt(x) + 1)):\t# 2부터 x의 제곱근까지의 숫자\n",
    "        if x % i == 0:\t\t# 나눠떨어지는 숫자가 있으면 소수가 아님\n",
    "            return False\n",
    "    return True\t\t\t\t# 전부 나눠떨어지지 않는다면 소수임\n",
    "\n",
    "n=110011\n",
    "k=10\n",
    "an=''\n",
    "answer=0\n",
    "while n >= k:\n",
    "    an=str(n%k)+an\n",
    "    n=n//k\n",
    "    print(an)\n",
    "an=str(n)+an\n",
    "#an=an[::-1]\n",
    "an"
   ]
  },
  {
   "cell_type": "code",
   "execution_count": null,
   "metadata": {},
   "outputs": [],
   "source": [
    "an_list=an.split('0')\n",
    "an_list"
   ]
  },
  {
   "cell_type": "code",
   "execution_count": null,
   "metadata": {},
   "outputs": [],
   "source": [
    "an_list= ' '.join(an_list).split()\n",
    "an_list"
   ]
  },
  {
   "cell_type": "code",
   "execution_count": null,
   "metadata": {},
   "outputs": [],
   "source": [
    "an_list=list(map(int,an_list))\n",
    "an_list = [x for x in an_list if x >= 2 ]\n",
    "an_list"
   ]
  },
  {
   "cell_type": "code",
   "execution_count": null,
   "metadata": {},
   "outputs": [],
   "source": [
    "for x in an_list:\n",
    "    if primenumber(int(x)) == True:\n",
    "        answer+=1\n",
    "answer"
   ]
  },
  {
   "cell_type": "code",
   "execution_count": 1,
   "metadata": {},
   "outputs": [],
   "source": [
    "import math\n",
    "# 소수 판별\n",
    "def primenumber(x):\n",
    "    for i in range (2, int(math.sqrt(x) + 1)):\t# 2부터 x의 제곱근까지의 숫자\n",
    "        if x % i == 0:\t\t# 나눠떨어지는 숫자가 있으면 소수가 아님\n",
    "            return False\n",
    "    return True\t\t\t\t# 전부 나눠떨어지지 않는다면 소수임\n",
    "\n",
    "def solution(n, k):\n",
    "    answer = 0\n",
    "    an=''\n",
    "    \n",
    "    # k진수 변환하기\n",
    "    while n >= k:\n",
    "        an=str(n%k)+an\n",
    "        n=n//k\n",
    "    an=str(n)+an\n",
    "    \n",
    "    # 0을 기준으로 split, *00*의 경우 공백 리스트가 생기기때문에 조인으로 합쳐서 한번더 split\n",
    "    an_list= ' '.join(an.split('0')).split()\n",
    "    an_list=list(map(int,an_list))\n",
    "    # 소수는 1을 제외\n",
    "    an_list = [x for x in an_list if x >= 2 ]\n",
    "\n",
    "    for x in an_list:\n",
    "        if primenumber(x) == True:\n",
    "            answer+=1\n",
    "\n",
    "    return answer"
   ]
  },
  {
   "cell_type": "code",
   "execution_count": 2,
   "metadata": {},
   "outputs": [
    {
     "data": {
      "text/plain": [
       "2"
      ]
     },
     "execution_count": 2,
     "metadata": {},
     "output_type": "execute_result"
    }
   ],
   "source": [
    "solution(110805,10)\n",
    "#solution(437674,3)"
   ]
  },
  {
   "cell_type": "code",
   "execution_count": 3,
   "metadata": {},
   "outputs": [],
   "source": [
    "import string"
   ]
  },
  {
   "cell_type": "code",
   "execution_count": 4,
   "metadata": {},
   "outputs": [],
   "source": [
    "tmp=string.digits"
   ]
  },
  {
   "cell_type": "code",
   "execution_count": 6,
   "metadata": {},
   "outputs": [
    {
     "data": {
      "text/plain": [
       "'2'"
      ]
     },
     "execution_count": 6,
     "metadata": {},
     "output_type": "execute_result"
    }
   ],
   "source": [
    "tmp[2]"
   ]
  },
  {
   "cell_type": "code",
   "execution_count": null,
   "metadata": {},
   "outputs": [],
   "source": []
  }
 ],
 "metadata": {
  "kernelspec": {
   "display_name": "Python 3.9.13 64-bit",
   "language": "python",
   "name": "python3"
  },
  "language_info": {
   "codemirror_mode": {
    "name": "ipython",
    "version": 3
   },
   "file_extension": ".py",
   "mimetype": "text/x-python",
   "name": "python",
   "nbconvert_exporter": "python",
   "pygments_lexer": "ipython3",
   "version": "3.9.13"
  },
  "orig_nbformat": 4,
  "vscode": {
   "interpreter": {
    "hash": "b0fa6594d8f4cbf19f97940f81e996739fb7646882a419484c72d19e05852a7e"
   }
  }
 },
 "nbformat": 4,
 "nbformat_minor": 2
}
