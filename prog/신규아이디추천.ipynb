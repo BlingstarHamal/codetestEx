{
 "cells": [
  {
   "cell_type": "code",
   "execution_count": 5,
   "metadata": {},
   "outputs": [],
   "source": [
    "#https://programmers.co.kr/learn/courses/30/lessons/72410\n",
    "new_id=[\"...!@BaT#*..y.abcdefghijklm\",\"z-+.^.\",\"=.=\",\"123_.def\",\"abcdefghijklmn.p\"]"
   ]
  },
  {
   "cell_type": "code",
   "execution_count": 2,
   "metadata": {},
   "outputs": [],
   "source": [
    "def solution(new_id):\n",
    "    \n",
    "    # 소문자 변경\n",
    "    new_id=new_id.lower()\n",
    "    \n",
    "    # 특수문자 제거, - _ . 가능\n",
    "    import re\n",
    "    new_id=re.sub('[=+,#/\\?:^$@*\\\"※~&%ㆍ!』\\\\‘|\\{\\}\\(\\)\\[\\]\\<\\>`\\'…》]','',new_id)\n",
    "    \n",
    "    if not new_id:\n",
    "        new_id='aaa'\n",
    "        return new_id\n",
    "    \n",
    "    # .. -> .\n",
    "    new_id=re.sub('(([.])\\\\2{1,})', '.', new_id)\n",
    "    \n",
    "    # 서두 서미 . 제거\n",
    "    \n",
    "    if new_id=='.': # 만약 이미 아이디가 . 하나면 aaa로 대체\n",
    "        new_id='aaa'\n",
    "        return new_id\n",
    "    else:\n",
    "        if new_id.strip()[0] == '.':\n",
    "            new_id=new_id[1:]\n",
    "\n",
    "        if new_id.strip()[-1] == '.':\n",
    "            new_id=new_id[:-1]\n",
    "            \n",
    "    # 빈문자열 'aaa' 아이디 최소 3자\n",
    "    if not new_id:\n",
    "        new_id='aaa'\n",
    "        return new_id\n",
    "    \n",
    "    # 아이디 자리수가 3~15면 종료    \n",
    "    if len(new_id)>=3 and len(new_id) <= 15:\n",
    "        return new_id\n",
    "    \n",
    "    # 아이디 최다 15자, 마지막이 . 라면 제거    \n",
    "    if len(new_id) > 15:\n",
    "        new_id=new_id[:15]\n",
    "        \n",
    "        # 아이디의 끝이 . 이라면 잘라냄\n",
    "        if new_id.strip()[-1] == '.':\n",
    "            new_id=new_id[:-1]\n",
    "            \n",
    "        return new_id\n",
    "    \n",
    "    # 아이디 최소 3자, 마지막 글자 추가 az->azz\n",
    "    if len(new_id) == 2:\n",
    "        new_id=new_id+new_id[-1]\n",
    "    if len(new_id) == 1:\n",
    "        new_id=new_id+new_id[-1]*2\n",
    "    \n",
    "    return new_id\n"
   ]
  }
 ],
 "metadata": {
  "interpreter": {
   "hash": "dd9fdb7f5e573aa51bd206043e765fcac015990aba557780e843eaea3e462845"
  },
  "kernelspec": {
   "display_name": "Python 3.8.13 ('n51x')",
   "language": "python",
   "name": "python3"
  },
  "language_info": {
   "codemirror_mode": {
    "name": "ipython",
    "version": 3
   },
   "file_extension": ".py",
   "mimetype": "text/x-python",
   "name": "python",
   "nbconvert_exporter": "python",
   "pygments_lexer": "ipython3",
   "version": "3.8.13"
  },
  "orig_nbformat": 4
 },
 "nbformat": 4,
 "nbformat_minor": 2
}
