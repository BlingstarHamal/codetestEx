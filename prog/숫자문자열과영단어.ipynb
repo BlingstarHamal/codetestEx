{
 "cells": [
  {
   "cell_type": "code",
   "execution_count": 1,
   "metadata": {},
   "outputs": [],
   "source": [
    "# import time\n",
    "# start_time = time.time() # 측정시작\n",
    "\n",
    "# print(함수)\n",
    "\n",
    "# end_time = time.time() # 측정끝\n",
    "# print(\"소요시간\", end_time - start_time) # 수행시간 출력"
   ]
  },
  {
   "cell_type": "code",
   "execution_count": null,
   "metadata": {},
   "outputs": [],
   "source": [
    "# https://programmers.co.kr/learn/courses/30/lessons/81301"
   ]
  },
  {
   "cell_type": "code",
   "execution_count": 2,
   "metadata": {},
   "outputs": [],
   "source": [
    "def solution(s):\n",
    "    answer=0\n",
    "    num={0:\t'zero',\n",
    "        1:\t'one',\n",
    "        2:\t'two',\n",
    "        3:\t'three',\n",
    "        4:\t'four',\n",
    "        5:\t'five',\n",
    "        6:\t'six',\n",
    "        7:\t'seven',\n",
    "        8:\t'eight',\n",
    "        9:\t'nine'}\n",
    "    \n",
    "    for key,value in num.items():\n",
    "        s=s.replace(value,str(key))\n",
    "        \n",
    "    answer=int(s) # 값을 int로 바꿔야하는 것을 잊지 말자\n",
    "    \n",
    "    return answer"
   ]
  }
 ],
 "metadata": {
  "interpreter": {
   "hash": "dd9fdb7f5e573aa51bd206043e765fcac015990aba557780e843eaea3e462845"
  },
  "kernelspec": {
   "display_name": "Python 3.8.13 ('n51x')",
   "language": "python",
   "name": "python3"
  },
  "language_info": {
   "codemirror_mode": {
    "name": "ipython",
    "version": 3
   },
   "file_extension": ".py",
   "mimetype": "text/x-python",
   "name": "python",
   "nbconvert_exporter": "python",
   "pygments_lexer": "ipython3",
   "version": "3.8.13"
  },
  "orig_nbformat": 4
 },
 "nbformat": 4,
 "nbformat_minor": 2
}
