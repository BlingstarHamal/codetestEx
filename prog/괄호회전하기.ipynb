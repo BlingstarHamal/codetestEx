{
 "cells": [
  {
   "cell_type": "markdown",
   "metadata": {},
   "source": [
    "https://school.programmers.co.kr/learn/courses/30/lessons/76502"
   ]
  },
  {
   "cell_type": "code",
   "execution_count": null,
   "metadata": {},
   "outputs": [],
   "source": [
    "# 재귀시도 -> 재귀에 늪에 빠짐\n",
    "# 딕셔너리 시도 -> 값의 순서를 잘 못찾음"
   ]
  },
  {
   "cell_type": "code",
   "execution_count": null,
   "metadata": {},
   "outputs": [],
   "source": [
    "# test 1\n",
    "# 처음에는 경우에수가 첫번째와두번째 / 첫번째와 마지막 이렇게만 있지않나 생각했음\n",
    "# 그런데 풀다가 생각해보니 ([]){} 이런경우는 못찾음 실패\n",
    "\n",
    "s=\"[](){}\"\n",
    "def solutions(s):\n",
    "    answer = 0\n",
    "\n",
    "    \n",
    "    turn=[']','}',')']\n",
    "    #find=['[','{','(']\n",
    "    find2={'[':']','{':'}','(':')'}\n",
    "    \n",
    "    if len(s)%2 != 0:\n",
    "        return 0\n",
    "    if not s:\n",
    "        return 0\n",
    "    \n",
    "    temp = list(s)\n",
    "        \n",
    "    for _ in range(len(s)-1):\n",
    "        \n",
    "        if temp[0] in turn:\n",
    "            temp=temp[1:]+temp[0]\n",
    "        else:\n",
    "            if find2[temp[0]]==temp[-1]:\n",
    "                temp=temp[1:-1]\n",
    "            elif find2[temp[0]]==temp[1]:\n",
    "                temp=temp[2:]\n",
    "            # else :\n",
    "            \n",
    "        if not temp:\n",
    "            answer+=1\n",
    "            break\n",
    "    \n",
    "    return answer\n",
    "\n",
    "solutions(s)"
   ]
  },
  {
   "cell_type": "code",
   "execution_count": 2,
   "metadata": {},
   "outputs": [
    {
     "data": {
      "text/plain": [
       "3"
      ]
     },
     "execution_count": 2,
     "metadata": {},
     "output_type": "execute_result"
    }
   ],
   "source": [
    "# sol\n",
    "# 힌트를 보니 대부분 스택을 사용하는것을 추천\n",
    "\n",
    "s=\"[](){}\"\n",
    "def solution(s):\n",
    "    answer=0\n",
    "    l=list(s)\n",
    "    \n",
    "    # 홀수인경우와 빈경우는 빠르게 종료\n",
    "    if len(s)%2 != 0:\n",
    "        return 0\n",
    "    if not s:\n",
    "        return 0\n",
    "    \n",
    "    # for문의 변수에 _ 를 넣으면 변수를 사용하지 않고 반복만 진행\n",
    "    for _ in range(len(s)):\n",
    "        \n",
    "        # 스택으로 사용할 리스트 형성\n",
    "        stack=[]\n",
    "        st_app=stack.append\n",
    "        \n",
    "        for i in range(len(l)):\n",
    "            \n",
    "            # stack이 빈경우엔 추가\n",
    "            if not stack:\n",
    "                st_app(l[i])\n",
    "                \n",
    "            # stack이 비어있지 않은경우엔 세가지 괄호가 맞아 떨어질때(\"()\",\"{}\",\"[]\")와 아닐때 총 4가지 경우가 있다\n",
    "            else:\n",
    "                if stack[-1]=='(' and l[i]==')':\n",
    "                    stack.pop()\n",
    "                elif stack[-1]=='{' and l[i]=='}':\n",
    "                    stack.pop()\n",
    "                elif stack[-1]=='[' and l[i]==']':\n",
    "                    stack.pop()\n",
    "                else :\n",
    "                    st_app(l[i])\n",
    "        # for문 이후에 stack이 다시 비어있다면, 그경우엔 모두 맞아떨어졌다는 것이므로 답 +1\n",
    "        if not stack:\n",
    "            answer+=1\n",
    "        \n",
    "        # l=l[1:]+l[0] 로 처음엔 사용했는데, pop과 append를 사용하면 간단히 첫번째 값을 맨뒤로 보낼수 있다.\n",
    "        l.append(l.pop(0))\n",
    "\n",
    "            \n",
    "    return answer\n",
    "solution(s)"
   ]
  },
  {
   "cell_type": "code",
   "execution_count": 5,
   "metadata": {},
   "outputs": [
    {
     "data": {
      "text/plain": [
       "'([]){}'"
      ]
     },
     "execution_count": 5,
     "metadata": {},
     "output_type": "execute_result"
    }
   ],
   "source": [
    "s=\"([]){}\"\n",
    "\n",
    "#s=s[1:]+s[0]\n",
    "s"
   ]
  },
  {
   "cell_type": "code",
   "execution_count": 8,
   "metadata": {},
   "outputs": [
    {
     "data": {
      "text/plain": [
       "'([]){}'"
      ]
     },
     "execution_count": 8,
     "metadata": {},
     "output_type": "execute_result"
    }
   ],
   "source": [
    "s=s.replace('()',\"\")\n",
    "s"
   ]
  },
  {
   "cell_type": "code",
   "execution_count": null,
   "metadata": {},
   "outputs": [],
   "source": []
  }
 ],
 "metadata": {
  "kernelspec": {
   "display_name": "Python 3.9.12 ('base')",
   "language": "python",
   "name": "python3"
  },
  "language_info": {
   "codemirror_mode": {
    "name": "ipython",
    "version": 3
   },
   "file_extension": ".py",
   "mimetype": "text/x-python",
   "name": "python",
   "nbconvert_exporter": "python",
   "pygments_lexer": "ipython3",
   "version": "3.9.12"
  },
  "orig_nbformat": 4,
  "vscode": {
   "interpreter": {
    "hash": "1a6c8141d9e0e836f411349c1e45e31e7e0f7857046ee8bc1882d6723fb25a0a"
   }
  }
 },
 "nbformat": 4,
 "nbformat_minor": 2
}
