{
 "cells": [
  {
   "cell_type": "code",
   "execution_count": 1,
   "metadata": {},
   "outputs": [],
   "source": [
    "# https://school.programmers.co.kr/learn/courses/30/lessons/72413\n",
    "# 플로이드 워샬 알고리즘 혹은 다익스트라 알고리즘을 사용\n",
    "# heapq를 사용하면 속도가 더빠르다?"
   ]
  },
  {
   "cell_type": "code",
   "execution_count": 3,
   "metadata": {},
   "outputs": [],
   "source": [
    "# 참고했던 플로이드 워샬 알고리즘 파이썬 구현\n",
    "import sys\n",
    "INF = sys.maxsize\n",
    "def Floyd_Warshall(n,dist):\n",
    "    dist = [[INF]*n for _ in range(n)] # 최단 경로를 담는 배열\n",
    "\n",
    "    for i in range(n): # 최단 경로를 담는 배열 초기화\n",
    "        for j in range(n):\n",
    "            dist[i][j] = 0\n",
    "\n",
    "    for fare in fares:\n",
    "        u, v, w = fare\n",
    "        graph[u - 1][v - 1] = graph[v - 1][u - 1] = w\n",
    "\n",
    "\n",
    "    for k in range(n): # 거치는 점\n",
    "        for i in range(n): # 시작점\n",
    "            for j in range(n): # 끝점\n",
    "                # k를 거쳤을 때의 경로가 더 적은 경로\n",
    "                dist[i][j]=min(dist[i][j],dist[i][k] + dist[k][j])"
   ]
  },
  {
   "cell_type": "code",
   "execution_count": 4,
   "metadata": {},
   "outputs": [],
   "source": [
    "from math import inf\n",
    "def solution(n, s, a, b, fares):\n",
    "    \n",
    "    answer=inf # inf랑 그냥 숫자 입력 차이가 있을까?\n",
    "    s, a, b = s - 1, a - 1, b - 1 # 문제는 1부터 자연수지만 배열은 0부터\n",
    "    dist = [[inf]*n for _ in range(n)] # 최단 경로를 담는 배열\n",
    "\n",
    "    # (i,i)는 항상 0\n",
    "    for i in range(n):\n",
    "        dist[i][i] = 0  \n",
    "\n",
    "    # 값 넣기\n",
    "    for fare in fares:\n",
    "        q, w, e = fare\n",
    "        dist[q - 1][w - 1] = dist[w - 1][q - 1] = e\n",
    "\n",
    "    # 플로이드 와샬\n",
    "    for k in range(n): # 거치는 점\n",
    "        for i in range(n): # 시작점\n",
    "            for j in range(n): # 끝점\n",
    "                # k를 거쳤을 때의 경로가 더 적은 경로\n",
    "                # min과 if문 차이가 있나?\n",
    "                dist[i][j]=min(dist[i][j],dist[i][k] + dist[k][j])\n",
    "                \n",
    "    for t in range(n):\n",
    "        answer=min(answer,dist[s][t]+dist[t][a]+dist[t][b])\n",
    "    \n",
    "    return answer"
   ]
  },
  {
   "cell_type": "code",
   "execution_count": 5,
   "metadata": {},
   "outputs": [],
   "source": [
    "from math import inf\n",
    "\n",
    "def solution2(n, s, a, b, fares):\n",
    "    answer=inf # inf랑 그냥 숫자 입력 차이가 있을까?\n",
    "    # 숫자로 넣었을때 빠를때도 있는데, 최대값을 정해주기가 애매하다.\n",
    "    s, a, b = s - 1, a - 1, b - 1 # 문제는 1부터 자연수지만 배열은 0부터\n",
    "    dist = [[inf]*n for _ in range(n)] # 최단 경로를 담는 배열\n",
    "\n",
    "    # i,i는 항상 0\n",
    "    for i in range(n):\n",
    "        dist[i][i] = 0  \n",
    "\n",
    "    # 값 넣기\n",
    "    for fare in fares:\n",
    "        q, w, e = fare\n",
    "        dist[q - 1][w - 1] = dist[w - 1][q - 1] = e\n",
    "\n",
    "    # 플로이드 와샬\n",
    "    for k in range(n): # 거치는 점\n",
    "        for i in range(n): # 시작점\n",
    "            for j in range(n): # 끝점\n",
    "                # k를 거쳤을 때의 경로가 더 적은 경로\n",
    "                # min과 if문 차이가 있나? -> if문이 좀더 빠름\n",
    "                if dist[i][j] > dist[i][k] + dist[k][j]:\n",
    "                    dist[i][j] = dist[i][k] + dist[k][j]\n",
    "                \n",
    "    for t in range(n):\n",
    "        answer=min(answer,dist[s][t]+dist[t][a]+dist[t][b])\n",
    "    \n",
    "    return answer"
   ]
  },
  {
   "cell_type": "code",
   "execution_count": 6,
   "metadata": {},
   "outputs": [],
   "source": [
    "def solution3(n, s, a, b, fares):\n",
    "    \n",
    "    answer=99999999 # inf랑 그냥 숫자 입력 차이가 있을까?\n",
    "    s, a, b = s - 1, a - 1, b - 1 # 문제는 1부터 자연수지만 배열은 0부터\n",
    "    dist = [[99999999]*n for _ in range(n)] # 최단 경로를 담는 배열\n",
    "\n",
    "    # (i,i)는 항상 0\n",
    "    for i in range(n):\n",
    "        dist[i][i] = 0  \n",
    "\n",
    "    # 값 넣기\n",
    "    for fare in fares:\n",
    "        q, w, e = fare\n",
    "        dist[q - 1][w - 1] = dist[w - 1][q - 1] = e\n",
    "\n",
    "    # 플로이드 와샬\n",
    "    for k in range(n): # 거치는 점\n",
    "        for i in range(n): # 시작점\n",
    "            for j in range(n): # 끝점\n",
    "                # k를 거쳤을 때의 경로가 더 적은 경로\n",
    "                # min과 if문 차이가 있나?\n",
    "                dist[i][j]=min(dist[i][j],dist[i][k] + dist[k][j])\n",
    "                \n",
    "    for t in range(n):\n",
    "        answer=min(answer,dist[s][t]+dist[t][a]+dist[t][b])\n",
    "    \n",
    "    return answer"
   ]
  },
  {
   "cell_type": "code",
   "execution_count": 7,
   "metadata": {},
   "outputs": [
    {
     "name": "stdout",
     "output_type": "stream",
     "text": [
      "sol1 time : 7.510185241699219e-05\n",
      "sol2 time : 5.3882598876953125e-05\n",
      "sol3 time : 6.604194641113281e-05\n"
     ]
    }
   ],
   "source": [
    "n=6\n",
    "s=4\n",
    "a=6\n",
    "b=2\n",
    "fares=[[4, 1, 10], [3, 5, 24], [5, 6, 2], [3, 1, 41], [5, 1, 24], [4, 6, 50], [2, 4, 66], [2, 3, 22], [1, 6, 25]]\n",
    "\n",
    "import time\n",
    "start = time.time()\n",
    "solution(n,s,a,b,fares)\n",
    "print(\"sol1 time :\", time.time() - start)\n",
    "\n",
    "start = time.time()\n",
    "solution2(n,s,a,b,fares)\n",
    "print(\"sol2 time :\", time.time() - start)\n",
    "\n",
    "start = time.time()\n",
    "solution3(n,s,a,b,fares)\n",
    "print(\"sol3 time :\", time.time() - start)\n"
   ]
  },
  {
   "cell_type": "code",
   "execution_count": null,
   "metadata": {},
   "outputs": [],
   "source": [
    "# 대체적으로 math의 inf\n",
    "# min 보단 if문을 사용했을때 속도가 더빠름\n",
    "# solution2 가 대체적으로 빠르게 나왔음"
   ]
  },
  {
   "cell_type": "code",
   "execution_count": null,
   "metadata": {},
   "outputs": [],
   "source": []
  }
 ],
 "metadata": {
  "kernelspec": {
   "display_name": "Python 3.9.13 64-bit",
   "language": "python",
   "name": "python3"
  },
  "language_info": {
   "codemirror_mode": {
    "name": "ipython",
    "version": 3
   },
   "file_extension": ".py",
   "mimetype": "text/x-python",
   "name": "python",
   "nbconvert_exporter": "python",
   "pygments_lexer": "ipython3",
   "version": "3.9.13"
  },
  "orig_nbformat": 4,
  "vscode": {
   "interpreter": {
    "hash": "b0fa6594d8f4cbf19f97940f81e996739fb7646882a419484c72d19e05852a7e"
   }
  }
 },
 "nbformat": 4,
 "nbformat_minor": 2
}
