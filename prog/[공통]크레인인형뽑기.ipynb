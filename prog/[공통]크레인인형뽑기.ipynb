{
 "cells": [
  {
   "cell_type": "code",
   "execution_count": 1,
   "metadata": {},
   "outputs": [],
   "source": [
    "board=[[0,0,0,0,0],[0,0,1,0,3],[0,2,5,0,1],[4,2,4,4,2],[3,5,1,3,1]]\n",
    "moves=[1,5,3,5,1,2,1,4]\n",
    "\n",
    "def solution(board, moves):\n",
    "    b=[] # 추출한 인형이 들어갈 리스트\n",
    "    answer=0\n",
    "    \n",
    "    # 2차원 리스트를 뒤집기 => moves가 지칭하는 board의 열은 찾기가 힘들기 때문에 행만 고려하게 바꿈\n",
    "    a = list(map(list, zip(*board)))\n",
    "    # 변형된board(a) 내부의 0을 모두 제거 => 반복횟수 최소화\n",
    "    for i in range(0,len(a)):\n",
    "        while 0 in a[i]:\n",
    "            a[i].remove(0)\n",
    "    \n",
    "    for i in moves:\n",
    "        # a의 행이 비어 있다면 빠르게 패스!\n",
    "        if not a[i-1]:\n",
    "            pass\n",
    "        else:\n",
    "            # 행의 첫번째 인형을 추출\n",
    "            c=a[i-1].pop(0)\n",
    "            # 추출된 인형을 넣어줌\n",
    "            if not b:\n",
    "                b.append(c)\n",
    "            else:\n",
    "                # 추출된 이전 인형과 현재 인형 같다면 추가하지 않고 삭제\n",
    "                if b[-1]==c:\n",
    "                    b.pop(-1)\n",
    "                    answer+=2\n",
    "                else:\n",
    "                    b.append(c)\n",
    "    return answer"
   ]
  },
  {
   "cell_type": "code",
   "execution_count": 2,
   "metadata": {},
   "outputs": [
    {
     "name": "stdout",
     "output_type": "stream",
     "text": [
      "4\n",
      "소요시간 5.412101745605469e-05\n"
     ]
    }
   ],
   "source": [
    "import time\n",
    "start_time = time.time() # 측정시작\n",
    "\n",
    "print(solution(board,moves))\n",
    "\n",
    "end_time = time.time() # 측정끝\n",
    "print(\"소요시간\", end_time - start_time) # 수행시간 출력"
   ]
  },
  {
   "cell_type": "markdown",
   "metadata": {},
   "source": [
    "---"
   ]
  },
  {
   "cell_type": "code",
   "execution_count": 3,
   "metadata": {},
   "outputs": [],
   "source": [
    "board=[[0,0,0,0,0],[0,0,1,0,3],[0,2,5,0,1],[4,2,4,4,2],[3,5,1,3,1]]\n",
    "moves=[1,5,3,5,1,2,1,4]\n",
    "\n",
    "def solution(board, moves):\n",
    "    b=[] # 추출한 인형이 들어갈 리스트\n",
    "    append=b.append\n",
    "    answer=0\n",
    "    \n",
    "    # 2차원 리스트를 뒤집기 => moves가 지칭하는 board의 열은 찾기가 힘들기 때문에 행만 고려하게 바꿈\n",
    "    a = list(map(list, zip(*board)))\n",
    "    # 변형된board(a) 내부의 0을 모두 제거 => 반복횟수 최소화\n",
    "    for i in range(0,len(a)):\n",
    "        while 0 in a[i]:\n",
    "            a[i].remove(0)\n",
    "    \n",
    "    for i in moves:\n",
    "        # a의 행이 비어 있다면 빠르게 패스!\n",
    "        if not a[i-1]:\n",
    "            pass\n",
    "        else:\n",
    "            # 행의 첫번째 인형을 추출\n",
    "            c=a[i-1].pop(0)\n",
    "            # 추출된 인형을 넣어줌\n",
    "            if not b:\n",
    "                append(c)\n",
    "            else:\n",
    "                # 추출된 이전 인형과 현재 인형 같다면 추가하지 않고 삭제\n",
    "                if b[-1]==c:\n",
    "                    del b[-1]\n",
    "                    answer+=2\n",
    "                else:\n",
    "                    append(c)\n",
    "    return answer\n"
   ]
  },
  {
   "cell_type": "code",
   "execution_count": 4,
   "metadata": {},
   "outputs": [
    {
     "name": "stdout",
     "output_type": "stream",
     "text": [
      "4\n",
      "소요시간 4.887580871582031e-05\n"
     ]
    }
   ],
   "source": [
    "import time\n",
    "start_time = time.time() # 측정시작\n",
    "\n",
    "print(solution(board,moves))\n",
    "\n",
    "end_time = time.time() # 측정끝\n",
    "print(\"소요시간\", end_time - start_time) # 수행시간 출력"
   ]
  },
  {
   "cell_type": "markdown",
   "metadata": {},
   "source": [
    "---"
   ]
  },
  {
   "cell_type": "code",
   "execution_count": 5,
   "metadata": {},
   "outputs": [],
   "source": [
    "board=[[0,0,0,0,0],[0,0,1,0,3],[0,2,5,0,1],[4,2,4,4,2],[3,5,1,3,1]]\n",
    "moves=[1,5,3,5,1,2,1,4]\n",
    "\n",
    "def solution(board, moves):\n",
    "    b=[] # 추출한 인형이 들어갈 리스트\n",
    "    append=b.append\n",
    "    answer=0\n",
    "    remove_set = {0}\n",
    "    # 2차원 리스트를 뒤집기 => moves가 지칭하는 board의 열은 찾기가 힘들기 때문에 행만 고려하게 바꿈\n",
    "    a = list(map(list, zip(*board)))\n",
    "    # 변형된board(a) 내부의 0을 모두 제거 => 반복횟수 최소화\n",
    "    for i in range(0,len(a)):\n",
    "        a[i] = [x for x in a[i] if x not in remove_set]\n",
    "    \n",
    "    for i in moves:\n",
    "        # a의 행이 비어 있다면 빠르게 패스!\n",
    "        if not a[i-1]:\n",
    "            continue\n",
    "        else:\n",
    "            # 행의 첫번째 인형을 추출\n",
    "            c=a[i-1].pop(0)\n",
    "            # 추출된 인형을 넣어줌\n",
    "            if not b:\n",
    "                append(c)\n",
    "            else:\n",
    "                # 추출된 이전 인형과 현재 인형 같다면 추가하지 않고 삭제\n",
    "                if b[-1]==c:\n",
    "                    del b[-1]\n",
    "                    answer+=2\n",
    "                else:\n",
    "                    append(c)\n",
    "    return answer"
   ]
  },
  {
   "cell_type": "code",
   "execution_count": 6,
   "metadata": {},
   "outputs": [
    {
     "name": "stdout",
     "output_type": "stream",
     "text": [
      "4\n",
      "소요시간 5.507469177246094e-05\n"
     ]
    }
   ],
   "source": [
    "import time\n",
    "start_time = time.time() # 측정시작\n",
    "\n",
    "print(solution(board,moves))\n",
    "\n",
    "end_time = time.time() # 측정끝\n",
    "print(\"소요시간\", end_time - start_time) # 수행시간 출력"
   ]
  },
  {
   "cell_type": "code",
   "execution_count": 7,
   "metadata": {},
   "outputs": [
    {
     "data": {
      "text/plain": [
       "array([[0, 0, 0, 4, 3],\n",
       "       [0, 0, 2, 2, 5],\n",
       "       [0, 1, 5, 4, 1],\n",
       "       [0, 0, 0, 4, 3],\n",
       "       [0, 3, 1, 2, 1]])"
      ]
     },
     "execution_count": 7,
     "metadata": {},
     "output_type": "execute_result"
    }
   ],
   "source": [
    "board=[[0,0,0,0,0],[0,0,1,0,3],[0,2,5,0,1],[4,2,4,4,2],[3,5,1,3,1]]\n",
    "moves=[1,5,3,5,1,2,1,4]\n",
    "import numpy as np\n",
    "\n",
    "a=np.transpose(board)\n",
    "a"
   ]
  },
  {
   "cell_type": "markdown",
   "metadata": {},
   "source": [
    "---"
   ]
  },
  {
   "cell_type": "code",
   "execution_count": 8,
   "metadata": {},
   "outputs": [],
   "source": [
    "board=[[0,0,0,0,0],[0,0,1,0,3],[0,2,5,0,1],[4,2,4,4,2],[3,5,1,3,1]]\n",
    "moves=[1,5,3,5,1,2,1,4]\n",
    "\n",
    "def solution(board, moves):\n",
    "    b=[] # 추출한 인형이 들어갈 리스트\n",
    "    append=b.append\n",
    "    answer=0\n",
    "    remove_set = {0}\n",
    "    # 2차원 리스트를 뒤집기 => moves가 지칭하는 board의 열은 찾기가 힘들기 때문에 행만 고려하게 바꿈\n",
    "    a = np.transpose(board)\n",
    "    # 변형된board(a) 내부의 0을 모두 제거 => 반복횟수 최소화\n",
    "    for i in range(0,len(a)):\n",
    "        a[i] = [x for x in a[i] if x not in remove_set]\n",
    "    \n",
    "    for i in moves:\n",
    "        # a의 행이 비어 있다면 빠르게 패스!\n",
    "        if not a[i-1]:\n",
    "            continue\n",
    "        else:\n",
    "            # 행의 첫번째 인형을 추출\n",
    "            c=a[i-1].pop(0)\n",
    "            # 추출된 인형을 넣어줌\n",
    "            if not b:\n",
    "                append(c)\n",
    "            else:\n",
    "                # 추출된 이전 인형과 현재 인형 같다면 추가하지 않고 삭제\n",
    "                if b[-1]==c:\n",
    "                    del b[-1]\n",
    "                    answer+=2\n",
    "                else:\n",
    "                    append(c)\n",
    "    return answer\n",
    "\n",
    "import numpy as np"
   ]
  },
  {
   "cell_type": "code",
   "execution_count": 9,
   "metadata": {},
   "outputs": [
    {
     "ename": "ValueError",
     "evalue": "could not broadcast input array from shape (2,) into shape (5,)",
     "output_type": "error",
     "traceback": [
      "\u001b[0;31m---------------------------------------------------------------------------\u001b[0m",
      "\u001b[0;31mValueError\u001b[0m                                Traceback (most recent call last)",
      "\u001b[1;32m/Users/sanghyukkim/Desktop/codetestEx/prog/[공통]크레인인형뽑기.ipynb Cell 12'\u001b[0m in \u001b[0;36m<cell line: 4>\u001b[0;34m()\u001b[0m\n\u001b[1;32m      <a href='vscode-notebook-cell:/Users/sanghyukkim/Desktop/codetestEx/prog/%5B%EA%B3%B5%ED%86%B5%5D%ED%81%AC%EB%A0%88%EC%9D%B8%EC%9D%B8%ED%98%95%EB%BD%91%EA%B8%B0.ipynb#ch0000038?line=0'>1</a>\u001b[0m \u001b[39mimport\u001b[39;00m \u001b[39mtime\u001b[39;00m\n\u001b[1;32m      <a href='vscode-notebook-cell:/Users/sanghyukkim/Desktop/codetestEx/prog/%5B%EA%B3%B5%ED%86%B5%5D%ED%81%AC%EB%A0%88%EC%9D%B8%EC%9D%B8%ED%98%95%EB%BD%91%EA%B8%B0.ipynb#ch0000038?line=1'>2</a>\u001b[0m start_time \u001b[39m=\u001b[39m time\u001b[39m.\u001b[39mtime() \u001b[39m# 측정시작\u001b[39;00m\n\u001b[0;32m----> <a href='vscode-notebook-cell:/Users/sanghyukkim/Desktop/codetestEx/prog/%5B%EA%B3%B5%ED%86%B5%5D%ED%81%AC%EB%A0%88%EC%9D%B8%EC%9D%B8%ED%98%95%EB%BD%91%EA%B8%B0.ipynb#ch0000038?line=3'>4</a>\u001b[0m \u001b[39mprint\u001b[39m(solution(board,moves))\n\u001b[1;32m      <a href='vscode-notebook-cell:/Users/sanghyukkim/Desktop/codetestEx/prog/%5B%EA%B3%B5%ED%86%B5%5D%ED%81%AC%EB%A0%88%EC%9D%B8%EC%9D%B8%ED%98%95%EB%BD%91%EA%B8%B0.ipynb#ch0000038?line=5'>6</a>\u001b[0m end_time \u001b[39m=\u001b[39m time\u001b[39m.\u001b[39mtime() \u001b[39m# 측정끝\u001b[39;00m\n\u001b[1;32m      <a href='vscode-notebook-cell:/Users/sanghyukkim/Desktop/codetestEx/prog/%5B%EA%B3%B5%ED%86%B5%5D%ED%81%AC%EB%A0%88%EC%9D%B8%EC%9D%B8%ED%98%95%EB%BD%91%EA%B8%B0.ipynb#ch0000038?line=6'>7</a>\u001b[0m \u001b[39mprint\u001b[39m(\u001b[39m\"\u001b[39m\u001b[39m소요시간\u001b[39m\u001b[39m\"\u001b[39m, end_time \u001b[39m-\u001b[39m start_time)\n",
      "\u001b[1;32m/Users/sanghyukkim/Desktop/codetestEx/prog/[공통]크레인인형뽑기.ipynb Cell 11'\u001b[0m in \u001b[0;36msolution\u001b[0;34m(board, moves)\u001b[0m\n\u001b[1;32m     <a href='vscode-notebook-cell:/Users/sanghyukkim/Desktop/codetestEx/prog/%5B%EA%B3%B5%ED%86%B5%5D%ED%81%AC%EB%A0%88%EC%9D%B8%EC%9D%B8%ED%98%95%EB%BD%91%EA%B8%B0.ipynb#ch0000036?line=10'>11</a>\u001b[0m \u001b[39m# 변형된board(a) 내부의 0을 모두 제거 => 반복횟수 최소화\u001b[39;00m\n\u001b[1;32m     <a href='vscode-notebook-cell:/Users/sanghyukkim/Desktop/codetestEx/prog/%5B%EA%B3%B5%ED%86%B5%5D%ED%81%AC%EB%A0%88%EC%9D%B8%EC%9D%B8%ED%98%95%EB%BD%91%EA%B8%B0.ipynb#ch0000036?line=11'>12</a>\u001b[0m \u001b[39mfor\u001b[39;00m i \u001b[39min\u001b[39;00m \u001b[39mrange\u001b[39m(\u001b[39m0\u001b[39m,\u001b[39mlen\u001b[39m(a)):\n\u001b[0;32m---> <a href='vscode-notebook-cell:/Users/sanghyukkim/Desktop/codetestEx/prog/%5B%EA%B3%B5%ED%86%B5%5D%ED%81%AC%EB%A0%88%EC%9D%B8%EC%9D%B8%ED%98%95%EB%BD%91%EA%B8%B0.ipynb#ch0000036?line=12'>13</a>\u001b[0m     a[i] \u001b[39m=\u001b[39m [x \u001b[39mfor\u001b[39;00m x \u001b[39min\u001b[39;00m a[i] \u001b[39mif\u001b[39;00m x \u001b[39mnot\u001b[39;00m \u001b[39min\u001b[39;00m remove_set]\n\u001b[1;32m     <a href='vscode-notebook-cell:/Users/sanghyukkim/Desktop/codetestEx/prog/%5B%EA%B3%B5%ED%86%B5%5D%ED%81%AC%EB%A0%88%EC%9D%B8%EC%9D%B8%ED%98%95%EB%BD%91%EA%B8%B0.ipynb#ch0000036?line=14'>15</a>\u001b[0m \u001b[39mfor\u001b[39;00m i \u001b[39min\u001b[39;00m moves:\n\u001b[1;32m     <a href='vscode-notebook-cell:/Users/sanghyukkim/Desktop/codetestEx/prog/%5B%EA%B3%B5%ED%86%B5%5D%ED%81%AC%EB%A0%88%EC%9D%B8%EC%9D%B8%ED%98%95%EB%BD%91%EA%B8%B0.ipynb#ch0000036?line=15'>16</a>\u001b[0m     \u001b[39m# a의 행이 비어 있다면 빠르게 패스!\u001b[39;00m\n\u001b[1;32m     <a href='vscode-notebook-cell:/Users/sanghyukkim/Desktop/codetestEx/prog/%5B%EA%B3%B5%ED%86%B5%5D%ED%81%AC%EB%A0%88%EC%9D%B8%EC%9D%B8%ED%98%95%EB%BD%91%EA%B8%B0.ipynb#ch0000036?line=16'>17</a>\u001b[0m     \u001b[39mif\u001b[39;00m \u001b[39mnot\u001b[39;00m a[i\u001b[39m-\u001b[39m\u001b[39m1\u001b[39m]:\n",
      "\u001b[0;31mValueError\u001b[0m: could not broadcast input array from shape (2,) into shape (5,)"
     ]
    }
   ],
   "source": [
    "import time\n",
    "start_time = time.time() # 측정시작\n",
    "\n",
    "print(solution(board,moves))\n",
    "\n",
    "end_time = time.time() # 측정끝\n",
    "print(\"소요시간\", end_time - start_time) # 수행시간 출력"
   ]
  },
  {
   "cell_type": "code",
   "execution_count": 10,
   "metadata": {},
   "outputs": [],
   "source": [
    "board=[[0,0,0,0,0],[0,0,1,0,3],[0,2,5,0,1],[4,2,4,4,2],[3,5,1,3,1]]\n",
    "a = np.transpose(board)"
   ]
  },
  {
   "cell_type": "code",
   "execution_count": 11,
   "metadata": {},
   "outputs": [
    {
     "data": {
      "text/plain": [
       "array([[0, 0, 0, 4, 3],\n",
       "       [0, 0, 2, 2, 5],\n",
       "       [0, 1, 5, 4, 1],\n",
       "       [0, 0, 0, 4, 3],\n",
       "       [0, 3, 1, 2, 1]])"
      ]
     },
     "execution_count": 11,
     "metadata": {},
     "output_type": "execute_result"
    }
   ],
   "source": [
    "a"
   ]
  },
  {
   "cell_type": "code",
   "execution_count": 26,
   "metadata": {},
   "outputs": [
    {
     "ename": "ValueError",
     "evalue": "could not broadcast input array from shape (2,) into shape (5,)",
     "output_type": "error",
     "traceback": [
      "\u001b[0;31m---------------------------------------------------------------------------\u001b[0m",
      "\u001b[0;31mValueError\u001b[0m                                Traceback (most recent call last)",
      "\u001b[1;32m/Users/sanghyukkim/Desktop/codetestEx/prog/[공통]크레인인형뽑기.ipynb Cell 15'\u001b[0m in \u001b[0;36m<cell line: 3>\u001b[0;34m()\u001b[0m\n\u001b[1;32m      <a href='vscode-notebook-cell:/Users/sanghyukkim/Desktop/codetestEx/prog/%5B%EA%B3%B5%ED%86%B5%5D%ED%81%AC%EB%A0%88%EC%9D%B8%EC%9D%B8%ED%98%95%EB%BD%91%EA%B8%B0.ipynb#ch0000041?line=0'>1</a>\u001b[0m remove_set \u001b[39m=\u001b[39m {\u001b[39m0\u001b[39m}\n\u001b[1;32m      <a href='vscode-notebook-cell:/Users/sanghyukkim/Desktop/codetestEx/prog/%5B%EA%B3%B5%ED%86%B5%5D%ED%81%AC%EB%A0%88%EC%9D%B8%EC%9D%B8%ED%98%95%EB%BD%91%EA%B8%B0.ipynb#ch0000041?line=2'>3</a>\u001b[0m \u001b[39mfor\u001b[39;00m i \u001b[39min\u001b[39;00m \u001b[39mrange\u001b[39m(\u001b[39m0\u001b[39m,\u001b[39mlen\u001b[39m(a)):\n\u001b[0;32m----> <a href='vscode-notebook-cell:/Users/sanghyukkim/Desktop/codetestEx/prog/%5B%EA%B3%B5%ED%86%B5%5D%ED%81%AC%EB%A0%88%EC%9D%B8%EC%9D%B8%ED%98%95%EB%BD%91%EA%B8%B0.ipynb#ch0000041?line=3'>4</a>\u001b[0m     a[i] \u001b[39m=\u001b[39m [x \u001b[39mfor\u001b[39;00m x \u001b[39min\u001b[39;00m a[i] \u001b[39mif\u001b[39;00m x \u001b[39mnot\u001b[39;00m \u001b[39min\u001b[39;00m remove_set]\n",
      "\u001b[0;31mValueError\u001b[0m: could not broadcast input array from shape (2,) into shape (5,)"
     ]
    }
   ],
   "source": [
    "remove_set = {0}\n",
    "\n",
    "for i in range(0,len(a)):\n",
    "    a[i] = [x for x in a[i] if x not in remove_set]"
   ]
  },
  {
   "cell_type": "code",
   "execution_count": null,
   "metadata": {},
   "outputs": [],
   "source": [
    "def solution(board, moves):\n",
    "    b=[]\n",
    "    append=b.append\n",
    "    answer=0\n",
    "    a = list(map(list, zip(*board)))\n",
    "    for i in range(0,len(a)):\n",
    "        while 0 in a[i]:\n",
    "            a[i].remove(0)\n",
    "    for i in moves:\n",
    "        if not a[i-1]:\n",
    "            continue\n",
    "        else:\n",
    "            c=a[i-1].pop(0)\n",
    "            \n",
    "        if not b:\n",
    "            append(c)\n",
    "            continue\n",
    "        \n",
    "        else:\n",
    "            if b[-1]==c:\n",
    "                del b[-1]\n",
    "                answer+=2\n",
    "            else:\n",
    "                append(c)\n",
    "            \n",
    "    return answer"
   ]
  },
  {
   "cell_type": "code",
   "execution_count": 30,
   "metadata": {},
   "outputs": [
    {
     "name": "stdout",
     "output_type": "stream",
     "text": [
      "0\n",
      "c\n",
      "1\n",
      "2\n",
      "3\n",
      "4\n",
      "5\n",
      "6\n",
      "7\n",
      "8\n",
      "9\n"
     ]
    }
   ],
   "source": [
    "for a in range(10):\n",
    "    \n",
    "    if a == 0:\n",
    "        pass\n",
    "    \n",
    "    print(a)\n",
    "    \n",
    "    if a*2 == 0:\n",
    "        print('c')"
   ]
  },
  {
   "cell_type": "code",
   "execution_count": null,
   "metadata": {},
   "outputs": [],
   "source": []
  }
 ],
 "metadata": {
  "interpreter": {
   "hash": "dd9fdb7f5e573aa51bd206043e765fcac015990aba557780e843eaea3e462845"
  },
  "kernelspec": {
   "display_name": "Python 3.8.13 ('n51x')",
   "language": "python",
   "name": "python3"
  },
  "language_info": {
   "codemirror_mode": {
    "name": "ipython",
    "version": 3
   },
   "file_extension": ".py",
   "mimetype": "text/x-python",
   "name": "python",
   "nbconvert_exporter": "python",
   "pygments_lexer": "ipython3",
   "version": "3.8.13"
  },
  "orig_nbformat": 4
 },
 "nbformat": 4,
 "nbformat_minor": 2
}
