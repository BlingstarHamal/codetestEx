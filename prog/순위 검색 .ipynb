{
 "cells": [
  {
   "cell_type": "markdown",
   "metadata": {},
   "source": [
    "https://school.programmers.co.kr/learn/courses/30/lessons/72412"
   ]
  },
  {
   "cell_type": "markdown",
   "metadata": {},
   "source": [
    "추가풀이 https://github.com/yuneg11/Programmers-Solutions/tree/master/solutions/72412%20-%20%EC%88%9C%EC%9C%84%20%EA%B2%80%EC%83%89"
   ]
  },
  {
   "cell_type": "code",
   "execution_count": 1,
   "metadata": {},
   "outputs": [],
   "source": [
    "info=[\"java backend junior pizza 150\",\"python frontend senior chicken 210\",\"python frontend senior chicken 150\",\"cpp backend senior pizza 260\",\"java backend junior chicken 80\",\"python backend senior chicken 50\"]\n",
    "query=[\"java and backend and junior and pizza 100\",\"python and frontend and senior and chicken 200\",\"cpp and - and senior and pizza 250\",\"- and backend and senior and - 150\",\"- and - and - and chicken 100\",\"- and - and - and - 150\"]"
   ]
  },
  {
   "cell_type": "code",
   "execution_count": 2,
   "metadata": {},
   "outputs": [
    {
     "data": {
      "text/plain": [
       "[['java', 'backend', 'junior', 'pizza', '150'],\n",
       " ['python', 'frontend', 'senior', 'chicken', '210'],\n",
       " ['python', 'frontend', 'senior', 'chicken', '150'],\n",
       " ['cpp', 'backend', 'senior', 'pizza', '260'],\n",
       " ['java', 'backend', 'junior', 'chicken', '80'],\n",
       " ['python', 'backend', 'senior', 'chicken', '50']]"
      ]
     },
     "execution_count": 2,
     "metadata": {},
     "output_type": "execute_result"
    }
   ],
   "source": [
    "# info를 행렬로 변환\n",
    "info_array=[]\n",
    "\n",
    "for i in range(len(info)):\n",
    "    info_array.append(info[i].split(' '))\n",
    "info_array"
   ]
  },
  {
   "cell_type": "code",
   "execution_count": 3,
   "metadata": {},
   "outputs": [
    {
     "data": {
      "text/plain": [
       "[['java', 'backend', 'junior', 'pizza', '100'],\n",
       " ['python', 'frontend', 'senior', 'chicken', '200'],\n",
       " ['cpp', '-', 'senior', 'pizza', '250'],\n",
       " ['-', 'backend', 'senior', '-', '150'],\n",
       " ['-', '-', '-', 'chicken', '100'],\n",
       " ['-', '-', '-', '-', '150']]"
      ]
     },
     "execution_count": 3,
     "metadata": {},
     "output_type": "execute_result"
    }
   ],
   "source": [
    "# query를 행렬로 변환\n",
    "query_array=[]\n",
    "\n",
    "for i in range(len(query)):\n",
    "    query_array.append(query[i].split(' '))\n",
    "    \n",
    "for i in ['and']:\n",
    "    for j in range(len(query_array)):\n",
    "        while i in query_array[j]:\n",
    "            query_array[j].remove(i)\n",
    "query_array"
   ]
  },
  {
   "cell_type": "code",
   "execution_count": 5,
   "metadata": {},
   "outputs": [
    {
     "data": {
      "text/plain": [
       "'javabackendjuniorpizza'"
      ]
     },
     "execution_count": 5,
     "metadata": {},
     "output_type": "execute_result"
    }
   ],
   "source": [
    "s=\"\".join(query_array[0][:-1])\n",
    "s"
   ]
  },
  {
   "cell_type": "code",
   "execution_count": null,
   "metadata": {},
   "outputs": [],
   "source": [
    "# 코딩테스트 참여 개발언어 항목에 cpp, java, python 중 하나를 선택해야 합니다.\n",
    "# 지원 직군 항목에 backend와 frontend 중 하나를 선택해야 합니다.\n",
    "# 지원 경력구분 항목에 junior와 senior 중 하나를 선택해야 합니다.\n",
    "# 선호하는 소울푸드로 chicken과 pizza 중 하나를 선택해야 합니다."
   ]
  },
  {
   "cell_type": "code",
   "execution_count": null,
   "metadata": {},
   "outputs": [],
   "source": [
    "lang = ['-', 'cpp', 'java', 'python']\n",
    "job = ['-', 'backend', 'frontend']\n",
    "career = ['-', 'junior', 'senior']\n",
    "food = ['-', 'chicken', 'pizza']\n",
    "info_list = {}\n",
    "\n",
    "# lang, job, career, food로 가능한 모든 조합들을 생성.\n",
    "# 모든 조합의 수 = 4*3*3*3 = 108\n",
    "for l in lang:\n",
    "    for j in job:\n",
    "        for c in career:\n",
    "            for f in food:\n",
    "                info_list[l + j + c + f] = []"
   ]
  },
  {
   "cell_type": "code",
   "execution_count": null,
   "metadata": {},
   "outputs": [],
   "source": []
  }
 ],
 "metadata": {
  "kernelspec": {
   "display_name": "Python 3.9.12 ('tf')",
   "language": "python",
   "name": "python3"
  },
  "language_info": {
   "codemirror_mode": {
    "name": "ipython",
    "version": 3
   },
   "file_extension": ".py",
   "mimetype": "text/x-python",
   "name": "python",
   "nbconvert_exporter": "python",
   "pygments_lexer": "ipython3",
   "version": "3.9.12"
  },
  "orig_nbformat": 4,
  "vscode": {
   "interpreter": {
    "hash": "31b385ba421a9031a142f71477cbe2daf1628acd421806b2b865a5de7ff934c3"
   }
  }
 },
 "nbformat": 4,
 "nbformat_minor": 2
}
