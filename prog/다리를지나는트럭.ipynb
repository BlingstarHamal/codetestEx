{
 "cells": [
  {
   "cell_type": "markdown",
   "metadata": {},
   "source": [
    "https://school.programmers.co.kr/learn/courses/30/lessons/42583"
   ]
  },
  {
   "cell_type": "code",
   "execution_count": 2,
   "metadata": {},
   "outputs": [
    {
     "data": {
      "text/plain": [
       "8"
      ]
     },
     "execution_count": 2,
     "metadata": {},
     "output_type": "execute_result"
    }
   ],
   "source": [
    "# 시간초과, 일부케이스 오답\n",
    "# 시간초과는 해결했으나 일부케이스는 여전히 오류\n",
    "# if문 수를 줄여서 해결 -> 중복되는 경우를 if문에 넣어버려서 오답이 나왔다봅니다.\n",
    "\n",
    "bridge_length=2\n",
    "weight=10\n",
    "truck_weights=[7,4,5,6]\n",
    "\n",
    "def solution(bridge_length, weight, truck_weights):\n",
    "    answer = 0\n",
    "    \n",
    "    length=[0]*bridge_length\n",
    "    \n",
    "    # 트럭이 리스트에 존재한다면 무한루프하는 while문\n",
    "    while truck_weights :\n",
    "        # 처음에는 pop과 +1을 경우에따라 했는데, 얘네는 무조건 일어난다.\n",
    "        # 각각한다면 경우의 수도 너무 많아져서 복잡해진다 -> if문이 많아져서 속도가 엄청 느려짐\n",
    "        answer +=1\n",
    "        length.pop(0)\n",
    "        if sum(length)+truck_weights[0] <=weight:\n",
    "            length.append(truck_weights.pop(0))\n",
    "            #print(length)\n",
    "        else:\n",
    "            length.append(0)\n",
    "            #print(length)\n",
    "    # 맨마지막에 추가된 값은 다리의 출발지점에 있으므로 다리 길이만큼 시간을 더해주어야한다\n",
    "    return answer+bridge_length \n",
    "\n",
    "\n",
    "solution(bridge_length, weight, truck_weights)"
   ]
  },
  {
   "cell_type": "code",
   "execution_count": null,
   "metadata": {},
   "outputs": [],
   "source": []
  }
 ],
 "metadata": {
  "kernelspec": {
   "display_name": "Python 3.9.12 ('base')",
   "language": "python",
   "name": "python3"
  },
  "language_info": {
   "codemirror_mode": {
    "name": "ipython",
    "version": 3
   },
   "file_extension": ".py",
   "mimetype": "text/x-python",
   "name": "python",
   "nbconvert_exporter": "python",
   "pygments_lexer": "ipython3",
   "version": "3.9.12"
  },
  "orig_nbformat": 4,
  "vscode": {
   "interpreter": {
    "hash": "1a6c8141d9e0e836f411349c1e45e31e7e0f7857046ee8bc1882d6723fb25a0a"
   }
  }
 },
 "nbformat": 4,
 "nbformat_minor": 2
}
