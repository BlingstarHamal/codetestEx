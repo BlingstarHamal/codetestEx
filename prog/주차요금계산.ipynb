{
 "cells": [
  {
   "cell_type": "code",
   "execution_count": null,
   "metadata": {},
   "outputs": [],
   "source": [
    "https://school.programmers.co.kr/learn/courses/30/lessons/92341"
   ]
  },
  {
   "cell_type": "markdown",
   "metadata": {},
   "source": [
    "fees = [ 기본시간, 기본요금, 단위시간, 단위요금]  \n",
    "records = [ 시각(\"HH:MM\") 차량번호(XXXX) 내역(IN/OUT)]"
   ]
  },
  {
   "cell_type": "code",
   "execution_count": null,
   "metadata": {},
   "outputs": [],
   "source": [
    "fees=[180, 5000, 10, 600]\n",
    "records=[\"05:34 5961 IN\", \"06:00 0000 IN\", \"06:34 0000 OUT\", \"07:59 5961 OUT\", \"07:59 0148 IN\", \"18:59 0000 IN\", \"19:09 0148 OUT\", \"22:59 5961 IN\", \"23:00 5961 OUT\"]"
   ]
  },
  {
   "cell_type": "code",
   "execution_count": null,
   "metadata": {},
   "outputs": [],
   "source": [
    "import math\n",
    "\n",
    "def solution(fees, records):\n",
    "    answer = []\n",
    "    \n",
    "    # record를 행렬로 변환\n",
    "    record_array=[]\n",
    "    \n",
    "    for i in range(len(records)):\n",
    "        record_array.append(records[i].split(' '))\n",
    "    \n",
    "    # 각 자동차 별로 누적시간을 넣을 딕셔너리 생성\n",
    "    dic=dict()\n",
    "    for i in range(len(record_array)):\n",
    "        k=record_array[i][1]\n",
    "        dic[k]=0\n",
    "\n",
    "    for i in range(len(record_array)):\n",
    "        # IN인 행을 기본으로 OUT을 찾는 방식으로 선택\n",
    "        if record_array[i][2] == 'IN':\n",
    "            x = record_array[i][1]\n",
    "            \n",
    "            # 행렬이 1행뿐이거나, 마지막행을 불러왔을때는 바로 계산\n",
    "            if i+1 == len(record_array):\n",
    "                t= (23*60 + 59) - (int(record_array[i][0].split(':')[0])*60 + int(record_array[i][0].split(':')[1]))\n",
    "\n",
    "                # 누적시간을 계산할때 딕셔너리의 밸류값이 0이면 바로 대입하고, 0이아니면 더해줌\n",
    "                if dic[x] == 0 :\n",
    "                    dic[x] = t\n",
    "                    break\n",
    "\n",
    "                else:\n",
    "                    dic[x]=dic[x]+t\n",
    "                    break              \n",
    "            \n",
    "            # 다음행(i+1) 부터 마지막행까지 차번호가 같은것을 찾음 / 위의 행렬이 1행뿐이거나 마지막행을 불러왔을 경우를 아래 대입하고 싶은데 하지못함\n",
    "            for j in range(i+1,len(record_array)):\n",
    "                if record_array[j][1] == x:\n",
    "                    # 이번에는 OUT만 찾음\n",
    "                    if record_array[j][2] == 'OUT':\n",
    "                        t=(int(record_array[j][0].split(':')[0])*60 + int(record_array[j][0].split(':')[1])) - (int(record_array[i][0].split(':')[0])*60 + int(record_array[i][0].split(':')[1]))            \n",
    "\n",
    "                        if dic[x] == 0 :\n",
    "                            dic[x] = t\n",
    "                            break\n",
    "\n",
    "                        else:\n",
    "                            dic[x]=dic[x]+t\n",
    "                            break\n",
    "\n",
    "                else :\n",
    "                    # 이 부분은 중복일것 같다?\n",
    "                    if (j == len(record_array)-1) :\n",
    "                        t= (23*60 + 59) - (int(record_array[i][0].split(':')[0])*60 + int(record_array[i][0].split(':')[1]))\n",
    "\n",
    "                        if dic[x] == 0 :\n",
    "                            dic[x] = t\n",
    "                            break\n",
    "\n",
    "                        else:\n",
    "                            dic[x]=dic[x]+t\n",
    "                            break\n",
    "    \n",
    "    # 딕셔너리를 자동차 번호 오름차순으로 정렬                            \n",
    "    x=sorted(dic.keys())\n",
    "    \n",
    "    # 누적시간을 요금으로 변환\n",
    "    for i in x:\n",
    "        if dic[i] <=fees[0]:\n",
    "            answer.append(fees[1])\n",
    "        else :\n",
    "            answer.append(fees[1]+math.ceil((dic[i]-fees[0])/fees[2])*fees[3])\n",
    "    \n",
    "    return answer"
   ]
  },
  {
   "cell_type": "code",
   "execution_count": null,
   "metadata": {},
   "outputs": [],
   "source": [
    "solution(fees,records)"
   ]
  },
  {
   "cell_type": "code",
   "execution_count": null,
   "metadata": {},
   "outputs": [],
   "source": []
  }
 ],
 "metadata": {
  "kernelspec": {
   "display_name": "Python 3.9.12 ('tf')",
   "language": "python",
   "name": "python3"
  },
  "language_info": {
   "codemirror_mode": {
    "name": "ipython",
    "version": 3
   },
   "file_extension": ".py",
   "mimetype": "text/x-python",
   "name": "python",
   "nbconvert_exporter": "python",
   "pygments_lexer": "ipython3",
   "version": "3.9.12"
  },
  "orig_nbformat": 4,
  "vscode": {
   "interpreter": {
    "hash": "31b385ba421a9031a142f71477cbe2daf1628acd421806b2b865a5de7ff934c3"
   }
  }
 },
 "nbformat": 4,
 "nbformat_minor": 2
}
